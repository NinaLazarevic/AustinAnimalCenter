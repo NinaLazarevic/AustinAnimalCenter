{
 "cells": [
  {
   "cell_type": "markdown",
   "metadata": {},
   "source": [
    " # Austin Animal Center Shelter\n",
    " \n",
    " Analiza podataka o životinjama u životinjskom centru \"Austin Animal Center\"\n",
    " "
   ]
  },
  {
   "cell_type": "markdown",
   "metadata": {},
   "source": [
    "### Upoznavanje dataseta"
   ]
  },
  {
   "cell_type": "code",
   "execution_count": 2,
   "metadata": {},
   "outputs": [],
   "source": [
    "import numpy as np \n",
    "import os \n",
    "import pandas as pd \n",
    "import matplotlib.pyplot as plt\n",
    "import seaborn as sns"
   ]
  },
  {
   "cell_type": "code",
   "execution_count": 3,
   "metadata": {},
   "outputs": [],
   "source": [
    "from sklearn import preprocessing"
   ]
  },
  {
   "cell_type": "code",
   "execution_count": 4,
   "metadata": {},
   "outputs": [],
   "source": [
    "animal_data =  pd.read_csv('aac_intakes_outcomes.csv')"
   ]
  },
  {
   "cell_type": "markdown",
   "metadata": {},
   "source": [
    "Dataset ima 79672 instanci:"
   ]
  },
  {
   "cell_type": "code",
   "execution_count": 5,
   "metadata": {},
   "outputs": [
    {
     "data": {
      "text/plain": [
       "(79672, 41)"
      ]
     },
     "execution_count": 5,
     "metadata": {},
     "output_type": "execute_result"
    }
   ],
   "source": [
    "animal_data.shape"
   ]
  },
  {
   "cell_type": "code",
   "execution_count": 6,
   "metadata": {},
   "outputs": [],
   "source": [
    "pd.set_option('display.max_columns', 41)"
   ]
  },
  {
   "cell_type": "code",
   "execution_count": 7,
   "metadata": {},
   "outputs": [
    {
     "data": {
      "text/html": [
       "<div>\n",
       "<style scoped>\n",
       "    .dataframe tbody tr th:only-of-type {\n",
       "        vertical-align: middle;\n",
       "    }\n",
       "\n",
       "    .dataframe tbody tr th {\n",
       "        vertical-align: top;\n",
       "    }\n",
       "\n",
       "    .dataframe thead th {\n",
       "        text-align: right;\n",
       "    }\n",
       "</style>\n",
       "<table border=\"1\" class=\"dataframe\">\n",
       "  <thead>\n",
       "    <tr style=\"text-align: right;\">\n",
       "      <th></th>\n",
       "      <th>age_upon_outcome</th>\n",
       "      <th>animal_id_outcome</th>\n",
       "      <th>date_of_birth</th>\n",
       "      <th>outcome_subtype</th>\n",
       "      <th>outcome_type</th>\n",
       "      <th>sex_upon_outcome</th>\n",
       "      <th>age_upon_outcome_(days)</th>\n",
       "      <th>age_upon_outcome_(years)</th>\n",
       "      <th>age_upon_outcome_age_group</th>\n",
       "      <th>outcome_datetime</th>\n",
       "      <th>outcome_month</th>\n",
       "      <th>outcome_year</th>\n",
       "      <th>outcome_monthyear</th>\n",
       "      <th>outcome_weekday</th>\n",
       "      <th>outcome_hour</th>\n",
       "      <th>outcome_number</th>\n",
       "      <th>dob_year</th>\n",
       "      <th>dob_month</th>\n",
       "      <th>dob_monthyear</th>\n",
       "      <th>age_upon_intake</th>\n",
       "      <th>animal_id_intake</th>\n",
       "      <th>animal_type</th>\n",
       "      <th>breed</th>\n",
       "      <th>color</th>\n",
       "      <th>found_location</th>\n",
       "      <th>intake_condition</th>\n",
       "      <th>intake_type</th>\n",
       "      <th>sex_upon_intake</th>\n",
       "      <th>count</th>\n",
       "      <th>age_upon_intake_(days)</th>\n",
       "      <th>age_upon_intake_(years)</th>\n",
       "      <th>age_upon_intake_age_group</th>\n",
       "      <th>intake_datetime</th>\n",
       "      <th>intake_month</th>\n",
       "      <th>intake_year</th>\n",
       "      <th>intake_monthyear</th>\n",
       "      <th>intake_weekday</th>\n",
       "      <th>intake_hour</th>\n",
       "      <th>intake_number</th>\n",
       "      <th>time_in_shelter</th>\n",
       "      <th>time_in_shelter_days</th>\n",
       "    </tr>\n",
       "  </thead>\n",
       "  <tbody>\n",
       "    <tr>\n",
       "      <th>0</th>\n",
       "      <td>10 years</td>\n",
       "      <td>A006100</td>\n",
       "      <td>2007-07-09 00:00:00</td>\n",
       "      <td>NaN</td>\n",
       "      <td>Return to Owner</td>\n",
       "      <td>Neutered Male</td>\n",
       "      <td>3650</td>\n",
       "      <td>10.0</td>\n",
       "      <td>(7.5, 10.0]</td>\n",
       "      <td>2017-12-07 14:07:00</td>\n",
       "      <td>12</td>\n",
       "      <td>2017</td>\n",
       "      <td>2017-12</td>\n",
       "      <td>Thursday</td>\n",
       "      <td>0</td>\n",
       "      <td>1.0</td>\n",
       "      <td>2007</td>\n",
       "      <td>7</td>\n",
       "      <td>2017-12</td>\n",
       "      <td>10 years</td>\n",
       "      <td>A006100</td>\n",
       "      <td>Dog</td>\n",
       "      <td>Spinone Italiano Mix</td>\n",
       "      <td>Yellow/White</td>\n",
       "      <td>Colony Creek And Hunters Trace in Austin (TX)</td>\n",
       "      <td>Normal</td>\n",
       "      <td>Stray</td>\n",
       "      <td>Neutered Male</td>\n",
       "      <td>1</td>\n",
       "      <td>3650</td>\n",
       "      <td>10.0</td>\n",
       "      <td>(7.5, 10.0]</td>\n",
       "      <td>2017-12-07 00:00:00</td>\n",
       "      <td>12</td>\n",
       "      <td>2017</td>\n",
       "      <td>2017-12</td>\n",
       "      <td>Thursday</td>\n",
       "      <td>14</td>\n",
       "      <td>1.0</td>\n",
       "      <td>0 days 14:07:00.000000000</td>\n",
       "      <td>0.588194</td>\n",
       "    </tr>\n",
       "    <tr>\n",
       "      <th>1</th>\n",
       "      <td>7 years</td>\n",
       "      <td>A006100</td>\n",
       "      <td>2007-07-09 00:00:00</td>\n",
       "      <td>NaN</td>\n",
       "      <td>Return to Owner</td>\n",
       "      <td>Neutered Male</td>\n",
       "      <td>2555</td>\n",
       "      <td>7.0</td>\n",
       "      <td>(5.0, 7.5]</td>\n",
       "      <td>2014-12-20 16:35:00</td>\n",
       "      <td>12</td>\n",
       "      <td>2014</td>\n",
       "      <td>2014-12</td>\n",
       "      <td>Saturday</td>\n",
       "      <td>16</td>\n",
       "      <td>2.0</td>\n",
       "      <td>2007</td>\n",
       "      <td>7</td>\n",
       "      <td>2014-12</td>\n",
       "      <td>7 years</td>\n",
       "      <td>A006100</td>\n",
       "      <td>Dog</td>\n",
       "      <td>Spinone Italiano Mix</td>\n",
       "      <td>Yellow/White</td>\n",
       "      <td>8700 Research Blvd in Austin (TX)</td>\n",
       "      <td>Normal</td>\n",
       "      <td>Public Assist</td>\n",
       "      <td>Neutered Male</td>\n",
       "      <td>1</td>\n",
       "      <td>2555</td>\n",
       "      <td>7.0</td>\n",
       "      <td>(5.0, 7.5]</td>\n",
       "      <td>2014-12-19 10:21:00</td>\n",
       "      <td>12</td>\n",
       "      <td>2014</td>\n",
       "      <td>2014-12</td>\n",
       "      <td>Friday</td>\n",
       "      <td>10</td>\n",
       "      <td>2.0</td>\n",
       "      <td>1 days 06:14:00.000000000</td>\n",
       "      <td>1.259722</td>\n",
       "    </tr>\n",
       "    <tr>\n",
       "      <th>2</th>\n",
       "      <td>6 years</td>\n",
       "      <td>A006100</td>\n",
       "      <td>2007-07-09 00:00:00</td>\n",
       "      <td>NaN</td>\n",
       "      <td>Return to Owner</td>\n",
       "      <td>Neutered Male</td>\n",
       "      <td>2190</td>\n",
       "      <td>6.0</td>\n",
       "      <td>(5.0, 7.5]</td>\n",
       "      <td>2014-03-08 17:10:00</td>\n",
       "      <td>3</td>\n",
       "      <td>2014</td>\n",
       "      <td>2014-03</td>\n",
       "      <td>Saturday</td>\n",
       "      <td>17</td>\n",
       "      <td>3.0</td>\n",
       "      <td>2007</td>\n",
       "      <td>7</td>\n",
       "      <td>2014-03</td>\n",
       "      <td>6 years</td>\n",
       "      <td>A006100</td>\n",
       "      <td>Dog</td>\n",
       "      <td>Spinone Italiano Mix</td>\n",
       "      <td>Yellow/White</td>\n",
       "      <td>8700 Research in Austin (TX)</td>\n",
       "      <td>Normal</td>\n",
       "      <td>Public Assist</td>\n",
       "      <td>Neutered Male</td>\n",
       "      <td>1</td>\n",
       "      <td>2190</td>\n",
       "      <td>6.0</td>\n",
       "      <td>(5.0, 7.5]</td>\n",
       "      <td>2014-03-07 14:26:00</td>\n",
       "      <td>3</td>\n",
       "      <td>2014</td>\n",
       "      <td>2014-03</td>\n",
       "      <td>Friday</td>\n",
       "      <td>14</td>\n",
       "      <td>3.0</td>\n",
       "      <td>1 days 02:44:00.000000000</td>\n",
       "      <td>1.113889</td>\n",
       "    </tr>\n",
       "    <tr>\n",
       "      <th>3</th>\n",
       "      <td>10 years</td>\n",
       "      <td>A047759</td>\n",
       "      <td>2004-04-02 00:00:00</td>\n",
       "      <td>Partner</td>\n",
       "      <td>Transfer</td>\n",
       "      <td>Neutered Male</td>\n",
       "      <td>3650</td>\n",
       "      <td>10.0</td>\n",
       "      <td>(7.5, 10.0]</td>\n",
       "      <td>2014-04-07 15:12:00</td>\n",
       "      <td>4</td>\n",
       "      <td>2014</td>\n",
       "      <td>2014-04</td>\n",
       "      <td>Monday</td>\n",
       "      <td>15</td>\n",
       "      <td>1.0</td>\n",
       "      <td>2004</td>\n",
       "      <td>4</td>\n",
       "      <td>2014-04</td>\n",
       "      <td>10 years</td>\n",
       "      <td>A047759</td>\n",
       "      <td>Dog</td>\n",
       "      <td>Dachshund</td>\n",
       "      <td>Tricolor</td>\n",
       "      <td>Austin (TX)</td>\n",
       "      <td>Normal</td>\n",
       "      <td>Owner Surrender</td>\n",
       "      <td>Neutered Male</td>\n",
       "      <td>1</td>\n",
       "      <td>3650</td>\n",
       "      <td>10.0</td>\n",
       "      <td>(7.5, 10.0]</td>\n",
       "      <td>2014-04-02 15:55:00</td>\n",
       "      <td>4</td>\n",
       "      <td>2014</td>\n",
       "      <td>2014-04</td>\n",
       "      <td>Wednesday</td>\n",
       "      <td>15</td>\n",
       "      <td>1.0</td>\n",
       "      <td>4 days 23:17:00.000000000</td>\n",
       "      <td>4.970139</td>\n",
       "    </tr>\n",
       "    <tr>\n",
       "      <th>4</th>\n",
       "      <td>16 years</td>\n",
       "      <td>A134067</td>\n",
       "      <td>1997-10-16 00:00:00</td>\n",
       "      <td>NaN</td>\n",
       "      <td>Return to Owner</td>\n",
       "      <td>Neutered Male</td>\n",
       "      <td>5840</td>\n",
       "      <td>16.0</td>\n",
       "      <td>(15.0, 17.5]</td>\n",
       "      <td>2013-11-16 11:54:00</td>\n",
       "      <td>11</td>\n",
       "      <td>2013</td>\n",
       "      <td>2013-11</td>\n",
       "      <td>Saturday</td>\n",
       "      <td>11</td>\n",
       "      <td>1.0</td>\n",
       "      <td>1997</td>\n",
       "      <td>10</td>\n",
       "      <td>2013-11</td>\n",
       "      <td>16 years</td>\n",
       "      <td>A134067</td>\n",
       "      <td>Dog</td>\n",
       "      <td>Shetland Sheepdog</td>\n",
       "      <td>Brown/White</td>\n",
       "      <td>12034 Research Blvd in Austin (TX)</td>\n",
       "      <td>Injured</td>\n",
       "      <td>Public Assist</td>\n",
       "      <td>Neutered Male</td>\n",
       "      <td>1</td>\n",
       "      <td>5840</td>\n",
       "      <td>16.0</td>\n",
       "      <td>(15.0, 17.5]</td>\n",
       "      <td>2013-11-16 09:02:00</td>\n",
       "      <td>11</td>\n",
       "      <td>2013</td>\n",
       "      <td>2013-11</td>\n",
       "      <td>Saturday</td>\n",
       "      <td>9</td>\n",
       "      <td>1.0</td>\n",
       "      <td>0 days 02:52:00.000000000</td>\n",
       "      <td>0.119444</td>\n",
       "    </tr>\n",
       "  </tbody>\n",
       "</table>\n",
       "</div>"
      ],
      "text/plain": [
       "  age_upon_outcome animal_id_outcome        date_of_birth outcome_subtype  \\\n",
       "0         10 years           A006100  2007-07-09 00:00:00             NaN   \n",
       "1          7 years           A006100  2007-07-09 00:00:00             NaN   \n",
       "2          6 years           A006100  2007-07-09 00:00:00             NaN   \n",
       "3         10 years           A047759  2004-04-02 00:00:00         Partner   \n",
       "4         16 years           A134067  1997-10-16 00:00:00             NaN   \n",
       "\n",
       "      outcome_type sex_upon_outcome  age_upon_outcome_(days)  \\\n",
       "0  Return to Owner    Neutered Male                     3650   \n",
       "1  Return to Owner    Neutered Male                     2555   \n",
       "2  Return to Owner    Neutered Male                     2190   \n",
       "3         Transfer    Neutered Male                     3650   \n",
       "4  Return to Owner    Neutered Male                     5840   \n",
       "\n",
       "   age_upon_outcome_(years) age_upon_outcome_age_group     outcome_datetime  \\\n",
       "0                      10.0                (7.5, 10.0]  2017-12-07 14:07:00   \n",
       "1                       7.0                 (5.0, 7.5]  2014-12-20 16:35:00   \n",
       "2                       6.0                 (5.0, 7.5]  2014-03-08 17:10:00   \n",
       "3                      10.0                (7.5, 10.0]  2014-04-07 15:12:00   \n",
       "4                      16.0               (15.0, 17.5]  2013-11-16 11:54:00   \n",
       "\n",
       "   outcome_month  outcome_year outcome_monthyear outcome_weekday  \\\n",
       "0             12          2017           2017-12        Thursday   \n",
       "1             12          2014           2014-12        Saturday   \n",
       "2              3          2014           2014-03        Saturday   \n",
       "3              4          2014           2014-04          Monday   \n",
       "4             11          2013           2013-11        Saturday   \n",
       "\n",
       "   outcome_hour  outcome_number  dob_year  dob_month dob_monthyear  \\\n",
       "0             0             1.0      2007          7       2017-12   \n",
       "1            16             2.0      2007          7       2014-12   \n",
       "2            17             3.0      2007          7       2014-03   \n",
       "3            15             1.0      2004          4       2014-04   \n",
       "4            11             1.0      1997         10       2013-11   \n",
       "\n",
       "  age_upon_intake animal_id_intake animal_type                 breed  \\\n",
       "0        10 years          A006100         Dog  Spinone Italiano Mix   \n",
       "1         7 years          A006100         Dog  Spinone Italiano Mix   \n",
       "2         6 years          A006100         Dog  Spinone Italiano Mix   \n",
       "3        10 years          A047759         Dog             Dachshund   \n",
       "4        16 years          A134067         Dog     Shetland Sheepdog   \n",
       "\n",
       "          color                                 found_location  \\\n",
       "0  Yellow/White  Colony Creek And Hunters Trace in Austin (TX)   \n",
       "1  Yellow/White              8700 Research Blvd in Austin (TX)   \n",
       "2  Yellow/White                   8700 Research in Austin (TX)   \n",
       "3      Tricolor                                    Austin (TX)   \n",
       "4   Brown/White             12034 Research Blvd in Austin (TX)   \n",
       "\n",
       "  intake_condition      intake_type sex_upon_intake  count  \\\n",
       "0           Normal            Stray   Neutered Male      1   \n",
       "1           Normal    Public Assist   Neutered Male      1   \n",
       "2           Normal    Public Assist   Neutered Male      1   \n",
       "3           Normal  Owner Surrender   Neutered Male      1   \n",
       "4          Injured    Public Assist   Neutered Male      1   \n",
       "\n",
       "   age_upon_intake_(days)  age_upon_intake_(years) age_upon_intake_age_group  \\\n",
       "0                    3650                     10.0               (7.5, 10.0]   \n",
       "1                    2555                      7.0                (5.0, 7.5]   \n",
       "2                    2190                      6.0                (5.0, 7.5]   \n",
       "3                    3650                     10.0               (7.5, 10.0]   \n",
       "4                    5840                     16.0              (15.0, 17.5]   \n",
       "\n",
       "       intake_datetime  intake_month  intake_year intake_monthyear  \\\n",
       "0  2017-12-07 00:00:00            12         2017          2017-12   \n",
       "1  2014-12-19 10:21:00            12         2014          2014-12   \n",
       "2  2014-03-07 14:26:00             3         2014          2014-03   \n",
       "3  2014-04-02 15:55:00             4         2014          2014-04   \n",
       "4  2013-11-16 09:02:00            11         2013          2013-11   \n",
       "\n",
       "  intake_weekday  intake_hour  intake_number            time_in_shelter  \\\n",
       "0       Thursday           14            1.0  0 days 14:07:00.000000000   \n",
       "1         Friday           10            2.0  1 days 06:14:00.000000000   \n",
       "2         Friday           14            3.0  1 days 02:44:00.000000000   \n",
       "3      Wednesday           15            1.0  4 days 23:17:00.000000000   \n",
       "4       Saturday            9            1.0  0 days 02:52:00.000000000   \n",
       "\n",
       "   time_in_shelter_days  \n",
       "0              0.588194  \n",
       "1              1.259722  \n",
       "2              1.113889  \n",
       "3              4.970139  \n",
       "4              0.119444  "
      ]
     },
     "execution_count": 7,
     "metadata": {},
     "output_type": "execute_result"
    }
   ],
   "source": [
    "animal_data.head()"
   ]
  },
  {
   "cell_type": "code",
   "execution_count": 8,
   "metadata": {},
   "outputs": [
    {
     "name": "stdout",
     "output_type": "stream",
     "text": [
      "<class 'pandas.core.frame.DataFrame'>\n",
      "RangeIndex: 79672 entries, 0 to 79671\n",
      "Data columns (total 41 columns):\n",
      " #   Column                      Non-Null Count  Dtype  \n",
      "---  ------                      --------------  -----  \n",
      " 0   age_upon_outcome            79672 non-null  object \n",
      " 1   animal_id_outcome           79672 non-null  object \n",
      " 2   date_of_birth               79672 non-null  object \n",
      " 3   outcome_subtype             36348 non-null  object \n",
      " 4   outcome_type                79662 non-null  object \n",
      " 5   sex_upon_outcome            79671 non-null  object \n",
      " 6   age_upon_outcome_(days)     79672 non-null  int64  \n",
      " 7   age_upon_outcome_(years)    79672 non-null  float64\n",
      " 8   age_upon_outcome_age_group  79672 non-null  object \n",
      " 9   outcome_datetime            79672 non-null  object \n",
      " 10  outcome_month               79672 non-null  int64  \n",
      " 11  outcome_year                79672 non-null  int64  \n",
      " 12  outcome_monthyear           79672 non-null  object \n",
      " 13  outcome_weekday             79672 non-null  object \n",
      " 14  outcome_hour                79672 non-null  int64  \n",
      " 15  outcome_number              79672 non-null  float64\n",
      " 16  dob_year                    79672 non-null  int64  \n",
      " 17  dob_month                   79672 non-null  int64  \n",
      " 18  dob_monthyear               79672 non-null  object \n",
      " 19  age_upon_intake             79672 non-null  object \n",
      " 20  animal_id_intake            79672 non-null  object \n",
      " 21  animal_type                 79672 non-null  object \n",
      " 22  breed                       79672 non-null  object \n",
      " 23  color                       79672 non-null  object \n",
      " 24  found_location              79672 non-null  object \n",
      " 25  intake_condition            79672 non-null  object \n",
      " 26  intake_type                 79672 non-null  object \n",
      " 27  sex_upon_intake             79671 non-null  object \n",
      " 28  count                       79672 non-null  int64  \n",
      " 29  age_upon_intake_(days)      79672 non-null  int64  \n",
      " 30  age_upon_intake_(years)     79672 non-null  float64\n",
      " 31  age_upon_intake_age_group   79672 non-null  object \n",
      " 32  intake_datetime             79672 non-null  object \n",
      " 33  intake_month                79672 non-null  int64  \n",
      " 34  intake_year                 79672 non-null  int64  \n",
      " 35  intake_monthyear            79672 non-null  object \n",
      " 36  intake_weekday              79672 non-null  object \n",
      " 37  intake_hour                 79672 non-null  int64  \n",
      " 38  intake_number               79672 non-null  float64\n",
      " 39  time_in_shelter             79672 non-null  object \n",
      " 40  time_in_shelter_days        79672 non-null  float64\n",
      "dtypes: float64(5), int64(11), object(25)\n",
      "memory usage: 24.9+ MB\n"
     ]
    }
   ],
   "source": [
    "animal_data.info()"
   ]
  },
  {
   "cell_type": "code",
   "execution_count": 9,
   "metadata": {},
   "outputs": [
    {
     "data": {
      "text/html": [
       "<div>\n",
       "<style scoped>\n",
       "    .dataframe tbody tr th:only-of-type {\n",
       "        vertical-align: middle;\n",
       "    }\n",
       "\n",
       "    .dataframe tbody tr th {\n",
       "        vertical-align: top;\n",
       "    }\n",
       "\n",
       "    .dataframe thead th {\n",
       "        text-align: right;\n",
       "    }\n",
       "</style>\n",
       "<table border=\"1\" class=\"dataframe\">\n",
       "  <thead>\n",
       "    <tr style=\"text-align: right;\">\n",
       "      <th></th>\n",
       "      <th>age_upon_outcome_(days)</th>\n",
       "      <th>age_upon_outcome_(years)</th>\n",
       "      <th>outcome_month</th>\n",
       "      <th>outcome_year</th>\n",
       "      <th>outcome_hour</th>\n",
       "      <th>outcome_number</th>\n",
       "      <th>dob_year</th>\n",
       "      <th>dob_month</th>\n",
       "      <th>count</th>\n",
       "      <th>age_upon_intake_(days)</th>\n",
       "      <th>age_upon_intake_(years)</th>\n",
       "      <th>intake_month</th>\n",
       "      <th>intake_year</th>\n",
       "      <th>intake_hour</th>\n",
       "      <th>intake_number</th>\n",
       "      <th>time_in_shelter_days</th>\n",
       "    </tr>\n",
       "  </thead>\n",
       "  <tbody>\n",
       "    <tr>\n",
       "      <th>count</th>\n",
       "      <td>79672.000000</td>\n",
       "      <td>79672.000000</td>\n",
       "      <td>79672.000000</td>\n",
       "      <td>79672.000000</td>\n",
       "      <td>79672.000000</td>\n",
       "      <td>79672.000000</td>\n",
       "      <td>79672.000000</td>\n",
       "      <td>79672.000000</td>\n",
       "      <td>79672.0</td>\n",
       "      <td>79672.000000</td>\n",
       "      <td>79672.000000</td>\n",
       "      <td>79672.000000</td>\n",
       "      <td>79672.000000</td>\n",
       "      <td>79672.000000</td>\n",
       "      <td>79672.000000</td>\n",
       "      <td>79672.000000</td>\n",
       "    </tr>\n",
       "    <tr>\n",
       "      <th>mean</th>\n",
       "      <td>782.046127</td>\n",
       "      <td>2.142592</td>\n",
       "      <td>6.655425</td>\n",
       "      <td>2015.472563</td>\n",
       "      <td>14.297306</td>\n",
       "      <td>1.126820</td>\n",
       "      <td>2013.254870</td>\n",
       "      <td>6.310310</td>\n",
       "      <td>1.0</td>\n",
       "      <td>769.341701</td>\n",
       "      <td>2.107785</td>\n",
       "      <td>6.584032</td>\n",
       "      <td>2015.436101</td>\n",
       "      <td>13.487022</td>\n",
       "      <td>1.126820</td>\n",
       "      <td>16.757116</td>\n",
       "    </tr>\n",
       "    <tr>\n",
       "      <th>std</th>\n",
       "      <td>1058.528519</td>\n",
       "      <td>2.900078</td>\n",
       "      <td>3.414284</td>\n",
       "      <td>1.305944</td>\n",
       "      <td>3.774317</td>\n",
       "      <td>0.456057</td>\n",
       "      <td>3.216517</td>\n",
       "      <td>3.289077</td>\n",
       "      <td>0.0</td>\n",
       "      <td>1056.009040</td>\n",
       "      <td>2.893175</td>\n",
       "      <td>3.366579</td>\n",
       "      <td>1.303157</td>\n",
       "      <td>3.121173</td>\n",
       "      <td>0.456057</td>\n",
       "      <td>41.679359</td>\n",
       "    </tr>\n",
       "    <tr>\n",
       "      <th>min</th>\n",
       "      <td>0.000000</td>\n",
       "      <td>0.000000</td>\n",
       "      <td>1.000000</td>\n",
       "      <td>2013.000000</td>\n",
       "      <td>0.000000</td>\n",
       "      <td>1.000000</td>\n",
       "      <td>1991.000000</td>\n",
       "      <td>1.000000</td>\n",
       "      <td>1.0</td>\n",
       "      <td>0.000000</td>\n",
       "      <td>0.000000</td>\n",
       "      <td>1.000000</td>\n",
       "      <td>2013.000000</td>\n",
       "      <td>0.000000</td>\n",
       "      <td>1.000000</td>\n",
       "      <td>0.000000</td>\n",
       "    </tr>\n",
       "    <tr>\n",
       "      <th>25%</th>\n",
       "      <td>90.000000</td>\n",
       "      <td>0.246575</td>\n",
       "      <td>4.000000</td>\n",
       "      <td>2014.000000</td>\n",
       "      <td>12.000000</td>\n",
       "      <td>1.000000</td>\n",
       "      <td>2012.000000</td>\n",
       "      <td>4.000000</td>\n",
       "      <td>1.0</td>\n",
       "      <td>60.000000</td>\n",
       "      <td>0.164384</td>\n",
       "      <td>4.000000</td>\n",
       "      <td>2014.000000</td>\n",
       "      <td>11.000000</td>\n",
       "      <td>1.000000</td>\n",
       "      <td>1.102083</td>\n",
       "    </tr>\n",
       "    <tr>\n",
       "      <th>50%</th>\n",
       "      <td>365.000000</td>\n",
       "      <td>1.000000</td>\n",
       "      <td>7.000000</td>\n",
       "      <td>2015.000000</td>\n",
       "      <td>15.000000</td>\n",
       "      <td>1.000000</td>\n",
       "      <td>2014.000000</td>\n",
       "      <td>6.000000</td>\n",
       "      <td>1.0</td>\n",
       "      <td>365.000000</td>\n",
       "      <td>1.000000</td>\n",
       "      <td>7.000000</td>\n",
       "      <td>2015.000000</td>\n",
       "      <td>13.000000</td>\n",
       "      <td>1.000000</td>\n",
       "      <td>4.987153</td>\n",
       "    </tr>\n",
       "    <tr>\n",
       "      <th>75%</th>\n",
       "      <td>1095.000000</td>\n",
       "      <td>3.000000</td>\n",
       "      <td>10.000000</td>\n",
       "      <td>2017.000000</td>\n",
       "      <td>17.000000</td>\n",
       "      <td>1.000000</td>\n",
       "      <td>2015.000000</td>\n",
       "      <td>9.000000</td>\n",
       "      <td>1.0</td>\n",
       "      <td>1095.000000</td>\n",
       "      <td>3.000000</td>\n",
       "      <td>10.000000</td>\n",
       "      <td>2017.000000</td>\n",
       "      <td>16.000000</td>\n",
       "      <td>1.000000</td>\n",
       "      <td>13.610764</td>\n",
       "    </tr>\n",
       "    <tr>\n",
       "      <th>max</th>\n",
       "      <td>9125.000000</td>\n",
       "      <td>25.000000</td>\n",
       "      <td>12.000000</td>\n",
       "      <td>2018.000000</td>\n",
       "      <td>23.000000</td>\n",
       "      <td>13.000000</td>\n",
       "      <td>2018.000000</td>\n",
       "      <td>12.000000</td>\n",
       "      <td>1.0</td>\n",
       "      <td>9125.000000</td>\n",
       "      <td>25.000000</td>\n",
       "      <td>12.000000</td>\n",
       "      <td>2018.000000</td>\n",
       "      <td>23.000000</td>\n",
       "      <td>13.000000</td>\n",
       "      <td>1606.194444</td>\n",
       "    </tr>\n",
       "  </tbody>\n",
       "</table>\n",
       "</div>"
      ],
      "text/plain": [
       "       age_upon_outcome_(days)  age_upon_outcome_(years)  outcome_month  \\\n",
       "count             79672.000000              79672.000000   79672.000000   \n",
       "mean                782.046127                  2.142592       6.655425   \n",
       "std                1058.528519                  2.900078       3.414284   \n",
       "min                   0.000000                  0.000000       1.000000   \n",
       "25%                  90.000000                  0.246575       4.000000   \n",
       "50%                 365.000000                  1.000000       7.000000   \n",
       "75%                1095.000000                  3.000000      10.000000   \n",
       "max                9125.000000                 25.000000      12.000000   \n",
       "\n",
       "       outcome_year  outcome_hour  outcome_number      dob_year     dob_month  \\\n",
       "count  79672.000000  79672.000000    79672.000000  79672.000000  79672.000000   \n",
       "mean    2015.472563     14.297306        1.126820   2013.254870      6.310310   \n",
       "std        1.305944      3.774317        0.456057      3.216517      3.289077   \n",
       "min     2013.000000      0.000000        1.000000   1991.000000      1.000000   \n",
       "25%     2014.000000     12.000000        1.000000   2012.000000      4.000000   \n",
       "50%     2015.000000     15.000000        1.000000   2014.000000      6.000000   \n",
       "75%     2017.000000     17.000000        1.000000   2015.000000      9.000000   \n",
       "max     2018.000000     23.000000       13.000000   2018.000000     12.000000   \n",
       "\n",
       "         count  age_upon_intake_(days)  age_upon_intake_(years)  intake_month  \\\n",
       "count  79672.0            79672.000000             79672.000000  79672.000000   \n",
       "mean       1.0              769.341701                 2.107785      6.584032   \n",
       "std        0.0             1056.009040                 2.893175      3.366579   \n",
       "min        1.0                0.000000                 0.000000      1.000000   \n",
       "25%        1.0               60.000000                 0.164384      4.000000   \n",
       "50%        1.0              365.000000                 1.000000      7.000000   \n",
       "75%        1.0             1095.000000                 3.000000     10.000000   \n",
       "max        1.0             9125.000000                25.000000     12.000000   \n",
       "\n",
       "        intake_year   intake_hour  intake_number  time_in_shelter_days  \n",
       "count  79672.000000  79672.000000   79672.000000          79672.000000  \n",
       "mean    2015.436101     13.487022       1.126820             16.757116  \n",
       "std        1.303157      3.121173       0.456057             41.679359  \n",
       "min     2013.000000      0.000000       1.000000              0.000000  \n",
       "25%     2014.000000     11.000000       1.000000              1.102083  \n",
       "50%     2015.000000     13.000000       1.000000              4.987153  \n",
       "75%     2017.000000     16.000000       1.000000             13.610764  \n",
       "max     2018.000000     23.000000      13.000000           1606.194444  "
      ]
     },
     "execution_count": 9,
     "metadata": {},
     "output_type": "execute_result"
    }
   ],
   "source": [
    "animal_data.describe()"
   ]
  },
  {
   "cell_type": "code",
   "execution_count": 10,
   "metadata": {},
   "outputs": [
    {
     "data": {
      "text/plain": [
       "age_upon_outcome                                          9 years\n",
       "animal_id_outcome                                         A769067\n",
       "date_of_birth                                 2018-03-25 00:00:00\n",
       "age_upon_outcome_(days)                                      9125\n",
       "age_upon_outcome_(years)                                       25\n",
       "age_upon_outcome_age_group                            (7.5, 10.0]\n",
       "outcome_datetime                              2018-04-03 18:43:00\n",
       "outcome_month                                                  12\n",
       "outcome_year                                                 2018\n",
       "outcome_monthyear                                         2018-04\n",
       "outcome_weekday                                         Wednesday\n",
       "outcome_hour                                                   23\n",
       "outcome_number                                                 13\n",
       "dob_year                                                     2018\n",
       "dob_month                                                      12\n",
       "dob_monthyear                                             2018-04\n",
       "age_upon_intake                                           9 years\n",
       "animal_id_intake                                          A769067\n",
       "animal_type                                                 Other\n",
       "breed                         Yorkshire Terrier/Yorkshire Terrier\n",
       "color                                               Yellow/Yellow\n",
       "found_location                    Zilker West Park in Austin (TX)\n",
       "intake_condition                                             Sick\n",
       "intake_type                                              Wildlife\n",
       "count                                                           1\n",
       "age_upon_intake_(days)                                       9125\n",
       "age_upon_intake_(years)                                        25\n",
       "age_upon_intake_age_group                             (7.5, 10.0]\n",
       "intake_datetime                               2018-03-29 18:20:00\n",
       "intake_month                                                   12\n",
       "intake_year                                                  2018\n",
       "intake_monthyear                                          2018-03\n",
       "intake_weekday                                          Wednesday\n",
       "intake_hour                                                    23\n",
       "intake_number                                                  13\n",
       "time_in_shelter                       999 days 06:15:00.000000000\n",
       "time_in_shelter_days                                      1606.19\n",
       "dtype: object"
      ]
     },
     "execution_count": 10,
     "metadata": {},
     "output_type": "execute_result"
    }
   ],
   "source": [
    "animal_data.max()"
   ]
  },
  {
   "cell_type": "markdown",
   "metadata": {},
   "source": [
    "Duplikati:"
   ]
  },
  {
   "cell_type": "code",
   "execution_count": 11,
   "metadata": {},
   "outputs": [],
   "source": [
    "animal_data.drop_duplicates(subset='animal_id_outcome', keep='first', inplace=True)"
   ]
  },
  {
   "cell_type": "code",
   "execution_count": 12,
   "metadata": {},
   "outputs": [
    {
     "data": {
      "text/plain": [
       "(71961, 41)"
      ]
     },
     "execution_count": 12,
     "metadata": {},
     "output_type": "execute_result"
    }
   ],
   "source": [
    "animal_data.shape"
   ]
  },
  {
   "cell_type": "code",
   "execution_count": 13,
   "metadata": {},
   "outputs": [
    {
     "data": {
      "text/plain": [
       "7711"
      ]
     },
     "execution_count": 13,
     "metadata": {},
     "output_type": "execute_result"
    }
   ],
   "source": [
    "79672 - 71961"
   ]
  },
  {
   "cell_type": "markdown",
   "metadata": {},
   "source": [
    "Postoji 7711 duplikata"
   ]
  },
  {
   "cell_type": "markdown",
   "metadata": {},
   "source": [
    "Broj razlčitih vrsta životinja:\n",
    "    "
   ]
  },
  {
   "cell_type": "code",
   "execution_count": 14,
   "metadata": {},
   "outputs": [
    {
     "data": {
      "text/plain": [
       "animal_type\n",
       "Bird       339\n",
       "Cat      28303\n",
       "Dog      38909\n",
       "Other     4410\n",
       "Name: animal_id_outcome, dtype: int64"
      ]
     },
     "execution_count": 14,
     "metadata": {},
     "output_type": "execute_result"
    }
   ],
   "source": [
    "animal_data.groupby('animal_type')['animal_id_outcome'].count()"
   ]
  },
  {
   "cell_type": "code",
   "execution_count": 15,
   "metadata": {},
   "outputs": [
    {
     "data": {
      "image/png": "[encoded data removed]",
      "text/plain": [
       "<Figure size 432x432 with 1 Axes>"
      ]
     },
     "metadata": {},
     "output_type": "display_data"
    }
   ],
   "source": [
    "plt.figure(figsize=(6,6))\n",
    "animal_type = animal_data['animal_type'].value_counts()\n",
    "explode = (0.05, 0.05, 0.05, 0.05) \n",
    "# Plot\n",
    "plt.pie(animal_type.values, explode=explode, labels=animal_type.index)\n",
    "plt.axis('equal')\n",
    "plt.tight_layout()\n",
    "plt.show()"
   ]
  },
  {
   "cell_type": "code",
   "execution_count": 16,
   "metadata": {},
   "outputs": [
    {
     "data": {
      "image/png": "[encoded data removed]",
      "text/plain": [
       "<Figure size 720x504 with 1 Axes>"
      ]
     },
     "metadata": {
      "needs_background": "light"
     },
     "output_type": "display_data"
    }
   ],
   "source": [
    "plt.figure(figsize=(10,7))\n",
    "sns.countplot(data = animal_data, x='animal_type', hue='outcome_type')\n",
    "plt.title('Outcomes For Different Animal Types', fontsize=20)\n",
    "plt.xlabel(\"Animal type\")\n",
    "plt.ylabel(\"Count\")\n",
    "plt.show()"
   ]
  },
  {
   "cell_type": "markdown",
   "metadata": {},
   "source": [
    "Odnos starosti životinje i broja životinja u skloništu:"
   ]
  },
  {
   "cell_type": "code",
   "execution_count": 17,
   "metadata": {},
   "outputs": [],
   "source": [
    "animal_age_intake = animal_data['age_upon_intake'].value_counts().head(15)"
   ]
  },
  {
   "cell_type": "code",
   "execution_count": 18,
   "metadata": {},
   "outputs": [
    {
     "data": {
      "image/png": "[encoded data removed]",
      "text/plain": [
       "<Figure size 1440x1080 with 1 Axes>"
      ]
     },
     "metadata": {
      "needs_background": "light"
     },
     "output_type": "display_data"
    }
   ],
   "source": [
    "plt.figure(figsize=(20,15))\n",
    "sns.barplot(x = animal_age_intake.index, y = animal_age_intake.values)\n",
    "plt.xlabel(\"Age (Intake)\")\n",
    "plt.ylabel(\"Count\")\n",
    "plt.show()"
   ]
  },
  {
   "cell_type": "markdown",
   "metadata": {},
   "source": [
    "Odnos starosti životinje i broja životinja koje su puštene iz skloništa:"
   ]
  },
  {
   "cell_type": "code",
   "execution_count": 19,
   "metadata": {},
   "outputs": [],
   "source": [
    "animal_age_outcome = animal_data['age_upon_outcome'].value_counts().head(15)"
   ]
  },
  {
   "cell_type": "code",
   "execution_count": 20,
   "metadata": {},
   "outputs": [
    {
     "data": {
      "image/png": "[encoded data removed]",
      "text/plain": [
       "<Figure size 1440x1080 with 1 Axes>"
      ]
     },
     "metadata": {
      "needs_background": "light"
     },
     "output_type": "display_data"
    }
   ],
   "source": [
    "plt.figure(figsize=(20,15))\n",
    "sns.barplot(x = animal_age_outcome.index, y = animal_age_outcome.values)\n",
    "plt.xlabel(\"Age (Outcome)\")\n",
    "plt.ylabel(\"Count\")\n",
    "plt.show()"
   ]
  },
  {
   "cell_type": "markdown",
   "metadata": {},
   "source": [
    "Odnos vrste životinja i starosti životinja:"
   ]
  },
  {
   "cell_type": "code",
   "execution_count": 21,
   "metadata": {},
   "outputs": [
    {
     "data": {
      "image/png": "[encoded data removed]",
      "text/plain": [
       "<Figure size 720x504 with 1 Axes>"
      ]
     },
     "metadata": {
      "needs_background": "light"
     },
     "output_type": "display_data"
    }
   ],
   "source": [
    "plt.figure(figsize=(10,7))\n",
    "sns.barplot(x = animal_data['animal_type'], y = animal_data['age_upon_intake_(years)'])\n",
    "plt.xlabel(\"Animal type\")\n",
    "plt.ylabel(\"Age\")\n",
    "plt.show()"
   ]
  },
  {
   "cell_type": "code",
   "execution_count": 22,
   "metadata": {},
   "outputs": [
    {
     "data": {
      "text/plain": [
       "Text(0, 0.5, 'Age (Years)')"
      ]
     },
     "execution_count": 22,
     "metadata": {},
     "output_type": "execute_result"
    },
    {
     "data": {
      "image/png": "[encoded data removed]",
      "text/plain": [
       "<Figure size 720x504 with 1 Axes>"
      ]
     },
     "metadata": {
      "needs_background": "light"
     },
     "output_type": "display_data"
    }
   ],
   "source": [
    "plt.figure(figsize=(10, 7))\n",
    "sns.boxplot(x='animal_type', y='age_upon_intake_(years)', data=animal_data, orient='v')\n",
    "plt.title('Age Distributions for Diferent Animal Type', fontsize=20)\n",
    "plt.xlabel('Animal Type')\n",
    "plt.ylabel('Age (Years)')"
   ]
  },
  {
   "cell_type": "markdown",
   "metadata": {},
   "source": [
    "Rasa životinja:"
   ]
  },
  {
   "cell_type": "code",
   "execution_count": 23,
   "metadata": {
    "scrolled": true
   },
   "outputs": [
    {
     "data": {
      "text/plain": [
       "Stray                 50514\n",
       "Owner Surrender       13441\n",
       "Public Assist          4304\n",
       "Wildlife               3457\n",
       "Euthanasia Request      245\n",
       "Name: intake_type, dtype: int64"
      ]
     },
     "execution_count": 23,
     "metadata": {},
     "output_type": "execute_result"
    }
   ],
   "source": [
    "animal_data['intake_type'].value_counts()"
   ]
  },
  {
   "cell_type": "code",
   "execution_count": 24,
   "metadata": {},
   "outputs": [],
   "source": [
    "strays = animal_data[animal_data['intake_type'] == 'Stray']\n",
    "owner_surrender = animal_data[animal_data['intake_type'] == 'Owner Surrender']\n",
    "public_assist = animal_data[animal_data['intake_type'] == 'Public Assist']\n",
    "wildlife = animal_data[animal_data['intake_type'] == 'Wildlife']\n",
    "euthanasia = animal_data[animal_data['intake_type'] == 'Euthanasia Request']"
   ]
  },
  {
   "cell_type": "code",
   "execution_count": 25,
   "metadata": {},
   "outputs": [
    {
     "data": {
      "text/plain": [
       "Domestic Shorthair Mix       17852\n",
       "Pit Bull Mix                  3299\n",
       "Chihuahua Shorthair Mix       3161\n",
       "Labrador Retriever Mix        3088\n",
       "Domestic Medium Hair Mix      1775\n",
       "German Shepherd Mix           1181\n",
       "Domestic Longhair Mix          887\n",
       "Siamese Mix                    725\n",
       "Australian Cattle Dog Mix      676\n",
       "Dachshund Mix                  541\n",
       "Miniature Poodle Mix           453\n",
       "Boxer Mix                      392\n",
       "Border Collie Mix              369\n",
       "Rat Terrier Mix                309\n",
       "Yorkshire Terrier Mix          304\n",
       "Australian Shepherd Mix        295\n",
       "Jack Russell Terrier Mix       288\n",
       "Siberian Husky Mix             286\n",
       "Miniature Schnauzer Mix        281\n",
       "Catahoula Mix                  271\n",
       "Name: breed, dtype: int64"
      ]
     },
     "execution_count": 25,
     "metadata": {},
     "output_type": "execute_result"
    }
   ],
   "source": [
    "strays['breed'].value_counts().head(20)"
   ]
  },
  {
   "cell_type": "code",
   "execution_count": 26,
   "metadata": {},
   "outputs": [
    {
     "data": {
      "text/plain": [
       "Domestic Shorthair Mix       4113\n",
       "Pit Bull Mix                  954\n",
       "Chihuahua Shorthair Mix       886\n",
       "Labrador Retriever Mix        738\n",
       "Domestic Medium Hair Mix      398\n",
       "German Shepherd Mix           320\n",
       "Domestic Longhair Mix         255\n",
       "Siamese Mix                   199\n",
       "Australian Cattle Dog Mix     190\n",
       "Dachshund Mix                 148\n",
       "Border Collie Mix             140\n",
       "Boxer Mix                     120\n",
       "Domestic Shorthair            104\n",
       "Catahoula Mix                  94\n",
       "Australian Shepherd Mix        86\n",
       "Yorkshire Terrier Mix          80\n",
       "Guinea Pig Mix                 77\n",
       "Chihuahua Longhair Mix         70\n",
       "Jack Russell Terrier Mix       70\n",
       "Rabbit Sh Mix                  70\n",
       "Name: breed, dtype: int64"
      ]
     },
     "execution_count": 26,
     "metadata": {},
     "output_type": "execute_result"
    }
   ],
   "source": [
    "owner_surrender['breed'].value_counts().head(20)"
   ]
  },
  {
   "cell_type": "code",
   "execution_count": 27,
   "metadata": {},
   "outputs": [
    {
     "data": {
      "text/plain": [
       "Pit Bull Mix                 690\n",
       "Domestic Shorthair Mix       458\n",
       "Chihuahua Shorthair Mix      345\n",
       "Labrador Retriever Mix       297\n",
       "German Shepherd Mix          139\n",
       "Australian Cattle Dog Mix     86\n",
       "Dachshund Mix                 58\n",
       "Chicken Mix                   55\n",
       "Boxer Mix                     54\n",
       "Miniature Poodle Mix          52\n",
       "Border Collie Mix             50\n",
       "Domestic Medium Hair Mix      50\n",
       "Domestic Longhair Mix         44\n",
       "Australian Shepherd Mix       40\n",
       "Pit Bull                      35\n",
       "Yorkshire Terrier Mix         34\n",
       "Bat                           34\n",
       "American Bulldog Mix          34\n",
       "Catahoula Mix                 31\n",
       "Rottweiler Mix                30\n",
       "Name: breed, dtype: int64"
      ]
     },
     "execution_count": 27,
     "metadata": {},
     "output_type": "execute_result"
    }
   ],
   "source": [
    "public_assist['breed'].value_counts().head(20)"
   ]
  },
  {
   "cell_type": "code",
   "execution_count": 28,
   "metadata": {},
   "outputs": [
    {
     "data": {
      "text/plain": [
       "Bat Mix          1322\n",
       "Bat               779\n",
       "Raccoon Mix       445\n",
       "Raccoon           224\n",
       "Opossum Mix       165\n",
       "Opossum           102\n",
       "Skunk Mix          78\n",
       "Squirrel Mix       67\n",
       "Fox Mix            48\n",
       "Skunk              41\n",
       "Squirrel           35\n",
       "Fox                17\n",
       "Dove Mix           11\n",
       "Rabbit Sh Mix      11\n",
       "Turtle Mix         10\n",
       "Rabbit Sh           8\n",
       "Pigeon Mix          8\n",
       "Coyote Mix          8\n",
       "Armadillo Mix       6\n",
       "Grackle Mix         6\n",
       "Name: breed, dtype: int64"
      ]
     },
     "execution_count": 28,
     "metadata": {},
     "output_type": "execute_result"
    }
   ],
   "source": [
    "wildlife['breed'].value_counts().head(20)"
   ]
  },
  {
   "cell_type": "code",
   "execution_count": 29,
   "metadata": {},
   "outputs": [
    {
     "data": {
      "text/plain": [
       "Domestic Shorthair Mix       37\n",
       "Pit Bull Mix                 35\n",
       "Labrador Retriever Mix       24\n",
       "Chihuahua Shorthair Mix      17\n",
       "German Shepherd Mix          15\n",
       "Domestic Medium Hair Mix      7\n",
       "Domestic Longhair Mix         6\n",
       "Miniature Poodle Mix          5\n",
       "Pit Bull                      4\n",
       "Rottweiler Mix                4\n",
       "Border Collie Mix             3\n",
       "Chicken Mix                   3\n",
       "Jack Russell Terrier Mix      2\n",
       "Cocker Spaniel                2\n",
       "Siamese Mix                   2\n",
       "Miniature Schnauzer Mix       2\n",
       "Labrador Retriever/Boxer      2\n",
       "Australian Shepherd Mix       2\n",
       "Australian Cattle Dog Mix     2\n",
       "Ferret                        2\n",
       "Name: breed, dtype: int64"
      ]
     },
     "execution_count": 29,
     "metadata": {},
     "output_type": "execute_result"
    }
   ],
   "source": [
    "euthanasia['breed'].value_counts().head(20)"
   ]
  },
  {
   "cell_type": "code",
   "execution_count": 30,
   "metadata": {},
   "outputs": [],
   "source": [
    "stray_animals = strays['breed'].value_counts().head(10)"
   ]
  },
  {
   "cell_type": "code",
   "execution_count": 31,
   "metadata": {},
   "outputs": [
    {
     "data": {
      "image/png": "[encoded data removed]",
      "text/plain": [
       "<Figure size 1440x1080 with 1 Axes>"
      ]
     },
     "metadata": {
      "needs_background": "light"
     },
     "output_type": "display_data"
    }
   ],
   "source": [
    "plt.figure(figsize=(20,15))\n",
    "sns.barplot(x = stray_animals.index, y = stray_animals.values)\n",
    "plt.xticks(rotation=90, fontsize=15)\n",
    "plt.yticks(fontsize=15)\n",
    "plt.xlabel(\"Animal breed\", fontsize=15)\n",
    "plt.ylabel(\"Count\", fontsize=15)\n",
    "plt.show()"
   ]
  },
  {
   "cell_type": "code",
   "execution_count": 32,
   "metadata": {},
   "outputs": [
    {
     "data": {
      "text/plain": [
       "Adoption           29332\n",
       "Transfer           23254\n",
       "Return to Owner    11937\n",
       "Euthanasia          6234\n",
       "Died                 690\n",
       "Disposal             301\n",
       "Rto-Adopt            151\n",
       "Missing               41\n",
       "Relocate              15\n",
       "Name: outcome_type, dtype: int64"
      ]
     },
     "execution_count": 32,
     "metadata": {},
     "output_type": "execute_result"
    }
   ],
   "source": [
    "animal_data['outcome_type'].value_counts()"
   ]
  },
  {
   "cell_type": "code",
   "execution_count": 33,
   "metadata": {},
   "outputs": [],
   "source": [
    "adoption_outcome = animal_data[animal_data['outcome_type'] == 'Adoption']['breed'].value_counts().head(20)\n",
    "return_owner_outcome = animal_data[animal_data['outcome_type'] == 'Return to Owner']['breed'].value_counts().head(20)\n",
    "euthanasia_outcome = animal_data[animal_data['outcome_type'] == 'Euthanasia']['breed'].value_counts().head(20)"
   ]
  },
  {
   "cell_type": "code",
   "execution_count": 34,
   "metadata": {},
   "outputs": [
    {
     "data": {
      "text/plain": [
       "Bat Mix                      1197\n",
       "Domestic Shorthair Mix       1135\n",
       "Bat                           728\n",
       "Raccoon Mix                   443\n",
       "Pit Bull Mix                  426\n",
       "Raccoon                       215\n",
       "Chihuahua Shorthair Mix       152\n",
       "Opossum Mix                   149\n",
       "Domestic Medium Hair Mix      139\n",
       "Labrador Retriever Mix        118\n",
       "Opossum                        95\n",
       "Domestic Longhair Mix          85\n",
       "Skunk Mix                      75\n",
       "Squirrel Mix                   68\n",
       "Siamese Mix                    57\n",
       "German Shepherd Mix            52\n",
       "Fox Mix                        42\n",
       "Skunk                          40\n",
       "Squirrel                       34\n",
       "Australian Cattle Dog Mix      29\n",
       "Name: breed, dtype: int64"
      ]
     },
     "execution_count": 34,
     "metadata": {},
     "output_type": "execute_result"
    }
   ],
   "source": [
    "euthanasia_outcome.head(20)"
   ]
  },
  {
   "cell_type": "code",
   "execution_count": 35,
   "metadata": {},
   "outputs": [
    {
     "data": {
      "text/plain": [
       "Domestic Shorthair Mix       9190\n",
       "Chihuahua Shorthair Mix      2021\n",
       "Labrador Retriever Mix       2013\n",
       "Pit Bull Mix                 1786\n",
       "Domestic Medium Hair Mix      977\n",
       "German Shepherd Mix           755\n",
       "Domestic Longhair Mix         536\n",
       "Australian Cattle Dog Mix     504\n",
       "Siamese Mix                   418\n",
       "Dachshund Mix                 349\n",
       "Border Collie Mix             292\n",
       "Boxer Mix                     246\n",
       "Miniature Poodle Mix          241\n",
       "Catahoula Mix                 205\n",
       "Australian Shepherd Mix       196\n",
       "Cairn Terrier Mix             188\n",
       "Jack Russell Terrier Mix      186\n",
       "Rat Terrier Mix               174\n",
       "Chihuahua Longhair Mix        169\n",
       "Domestic Shorthair            167\n",
       "Name: breed, dtype: int64"
      ]
     },
     "execution_count": 35,
     "metadata": {},
     "output_type": "execute_result"
    }
   ],
   "source": [
    "adoption_outcome.head(20)"
   ]
  },
  {
   "cell_type": "code",
   "execution_count": 36,
   "metadata": {},
   "outputs": [
    {
     "data": {
      "text/plain": [
       "Pit Bull Mix                 1544\n",
       "Chihuahua Shorthair Mix      1017\n",
       "Labrador Retriever Mix        985\n",
       "Domestic Shorthair Mix        972\n",
       "German Shepherd Mix           470\n",
       "Australian Cattle Dog Mix     213\n",
       "Miniature Poodle Mix          192\n",
       "Dachshund Mix                 181\n",
       "Boxer Mix                     161\n",
       "Siberian Husky Mix            155\n",
       "Border Collie Mix             138\n",
       "Yorkshire Terrier Mix         133\n",
       "Australian Shepherd Mix       122\n",
       "Miniature Schnauzer Mix       120\n",
       "Rat Terrier Mix               107\n",
       "Domestic Longhair Mix         100\n",
       "Shih Tzu Mix                   98\n",
       "Rottweiler Mix                 97\n",
       "Domestic Medium Hair Mix       96\n",
       "Jack Russell Terrier Mix       94\n",
       "Name: breed, dtype: int64"
      ]
     },
     "execution_count": 36,
     "metadata": {},
     "output_type": "execute_result"
    }
   ],
   "source": [
    "return_owner_outcome.head(20)"
   ]
  },
  {
   "cell_type": "code",
   "execution_count": 37,
   "metadata": {},
   "outputs": [
    {
     "data": {
      "text/plain": [
       "[Text(0.5, 0, 'Euthanasia COunt')]"
      ]
     },
     "execution_count": 37,
     "metadata": {},
     "output_type": "execute_result"
    },
    {
     "data": {
      "image/png": "[encoded data removed]",
      "text/plain": [
       "<Figure size 1440x2160 with 3 Axes>"
      ]
     },
     "metadata": {
      "needs_background": "light"
     },
     "output_type": "display_data"
    }
   ],
   "source": [
    "outcome_fig, axis = plt.subplots(3, 1, figsize = (20, 30))\n",
    "\n",
    "return_owner_outcome_fig = sns.barplot(y = return_owner_outcome.index, x = return_owner_outcome.values, ax = axis[0])\n",
    "return_owner_outcome_fig.set(xlabel = 'Return to Owner Count')\n",
    "\n",
    "adoption_outcome_fig = sns.barplot(y = adoption_outcome.index, x = adoption_outcome.values, ax = axis[1])\n",
    "adoption_outcome_fig.set(xlabel = 'Adoption Count')\n",
    "\n",
    "euthanasia_outcome_fig = sns.barplot(y = euthanasia_outcome.index, x = euthanasia_outcome.values, ax = axis[2])\n",
    "euthanasia_outcome_fig.set(xlabel = 'Euthanasia COunt')"
   ]
  },
  {
   "cell_type": "markdown",
   "metadata": {},
   "source": [
    "Primećuje se je eutanazija česta kod divljih životinja. Može se proveriti ishod za životinje kod kojih je 'animal_type' = 'Other'."
   ]
  },
  {
   "cell_type": "code",
   "execution_count": 38,
   "metadata": {},
   "outputs": [],
   "source": [
    "other_data = animal_data[animal_data['animal_type']=='Other']"
   ]
  },
  {
   "cell_type": "code",
   "execution_count": 39,
   "metadata": {},
   "outputs": [
    {
     "data": {
      "text/plain": [
       "array(['Rabbit Sh Mix', 'Bat Mix', 'Raccoon Mix', 'Skunk', 'Raccoon',\n",
       "       'Opossum Mix', 'Bat', 'Ferret', 'Californian Mix', 'Skunk Mix',\n",
       "       'Rabbit Sh', 'Fox Mix', 'Opossum', 'Armadillo Mix', 'Squirrel Mix',\n",
       "       'Guinea Pig Mix', 'Rabbit Sh/Lop-Mini', 'Fox', 'Turtle Mix',\n",
       "       'Rex Mix', 'Guinea Pig', 'Squirrel', 'Rat', 'Rat Mix',\n",
       "       'Californian', 'Coyote Mix', 'Hamster Mix', 'English Spot Mix',\n",
       "       'Lionhead Mix', 'Ferret Mix', 'Silver Mix', 'Tortoise Mix',\n",
       "       'Sugar Glider', 'Dutch Mix', 'Jersey Wooly Mix', 'Cottontail Mix',\n",
       "       'Lop-English Mix', 'Armadillo', 'Cold Water', 'American Mix',\n",
       "       'Lop-Holland Mix', 'Rabbit Lh Mix', 'Lionhead', 'Snake',\n",
       "       'Dutch/Rabbit Sh', 'Snake Mix', 'Lizard Mix', 'American Sable',\n",
       "       'New Zealand Wht Mix', 'Lop-Mini Mix', 'Mouse Mix', 'Hotot Mix',\n",
       "       'Hamster', 'Cinnamon', 'Rabbit Lh', 'American Sable Mix',\n",
       "       'Gerbil Mix', 'Angora-French Mix', 'Dutch', 'Tarantula', 'Turtle',\n",
       "       'Frog', 'Snake/Snake', 'Ringtail Mix', 'Lizard',\n",
       "       'Netherlnd Dwarf Mix', 'Coyote', 'Rex-Mini', 'Bobcat Mix',\n",
       "       'Lop-Holland', 'Checkered Giant Mix', 'Lop-Mini', 'Havana Mix',\n",
       "       'Hedgehog', 'Chinchilla-Amer Mix', 'Chinchilla-Stnd Mix',\n",
       "       'Polish Mix', 'Otter Mix', 'English Spot', 'Harlequin Mix',\n",
       "       'Netherlnd Dwarf', 'Chinchilla Mix', 'Tortoise',\n",
       "       'Rex-Mini/Lop-English', 'Angora-English Mix', 'Cinnamon Mix',\n",
       "       'Rex', 'Lop-Amer Fuzzy Mix', 'Rex-Mini Mix', 'Dutch/Angora-Satin',\n",
       "       'Tropical Mix', 'Flemish Giant', 'Deer Mix', 'American',\n",
       "       'Belgian Hare', 'Britannia Petit Mix', 'Himalayan Mix'],\n",
       "      dtype=object)"
      ]
     },
     "execution_count": 39,
     "metadata": {},
     "output_type": "execute_result"
    }
   ],
   "source": [
    "other_data['breed'].unique()"
   ]
  },
  {
   "cell_type": "code",
   "execution_count": 40,
   "metadata": {},
   "outputs": [],
   "source": [
    "other_group = other_data.groupby(['outcome_type'])[['count']].sum().reset_index().sort_values(by='count', ascending=False)\n",
    "names = other_group['outcome_type']\n",
    "size_of_groups = other_group['count']"
   ]
  },
  {
   "cell_type": "code",
   "execution_count": 41,
   "metadata": {},
   "outputs": [
    {
     "data": {
      "text/plain": [
       "Text(0.5, 1.0, 'Outcome - Other Animal Type')"
      ]
     },
     "execution_count": 41,
     "metadata": {},
     "output_type": "execute_result"
    },
    {
     "data": {
      "image/png": "[encoded data removed]",
      "text/plain": [
       "<Figure size 1080x720 with 1 Axes>"
      ]
     },
     "metadata": {},
     "output_type": "display_data"
    }
   ],
   "source": [
    "plt.figure(figsize=(15, 10))\n",
    "plt.pie(size_of_groups, labels=names, autopct='%1.1f%%' , pctdistance=1.1, labeldistance=1.2)\n",
    "my_circle = plt.Circle( (0,0), 0.7, color='white') # add a circle at the center\n",
    "p = plt.gcf()\n",
    "p.gca().add_artist(my_circle)\n",
    "plt.title('Outcome - Other Animal Type', fontsize=20)"
   ]
  },
  {
   "cell_type": "markdown",
   "metadata": {},
   "source": [
    "Analiza stanja životinja:"
   ]
  },
  {
   "cell_type": "code",
   "execution_count": 42,
   "metadata": {},
   "outputs": [],
   "source": [
    "intake_condition = animal_data['intake_condition'].value_counts()"
   ]
  },
  {
   "cell_type": "code",
   "execution_count": 43,
   "metadata": {},
   "outputs": [
    {
     "data": {
      "image/png": "[encoded data removed]",
      "text/plain": [
       "<Figure size 1440x1080 with 1 Axes>"
      ]
     },
     "metadata": {
      "needs_background": "light"
     },
     "output_type": "display_data"
    }
   ],
   "source": [
    "plt.figure(figsize=(20,15))\n",
    "sns.barplot(x = intake_condition.index, y = intake_condition.values)\n",
    "plt.xticks(rotation=90, fontsize=15)\n",
    "plt.yticks(fontsize=15)\n",
    "plt.xlabel(\"Condition\", fontsize=15)\n",
    "plt.ylabel(\"Count\", fontsize=15)\n",
    "plt.show()"
   ]
  },
  {
   "cell_type": "markdown",
   "metadata": {},
   "source": [
    "Analiza datuma:"
   ]
  },
  {
   "cell_type": "code",
   "execution_count": 44,
   "metadata": {},
   "outputs": [
    {
     "data": {
      "text/plain": [
       "Text(0, 0.5, 'Count of Intakes')"
      ]
     },
     "execution_count": 44,
     "metadata": {},
     "output_type": "execute_result"
    },
    {
     "data": {
      "image/png": "[encoded data removed]",
      "text/plain": [
       "<Figure size 864x576 with 1 Axes>"
      ]
     },
     "metadata": {
      "needs_background": "light"
     },
     "output_type": "display_data"
    }
   ],
   "source": [
    "# Order the weekdays starting from Monday\n",
    "animal_data['intake_weekday'] = pd.Categorical(animal_data['intake_weekday'], ordered=True,\n",
    "                                      categories=['Monday', 'Tuesday', 'Wednesday', 'Thursday', 'Friday', 'Saturday', 'Sunday'])\n",
    "plt.figure(figsize=(12, 8))\n",
    "sns.countplot(x='intake_weekday', data=animal_data, orient='v')\n",
    "plt.title('Count of Intakes by Day of Week', fontsize=18)\n",
    "plt.xlabel('Weekday', fontsize=18)\n",
    "plt.ylabel('Count of Intakes', fontsize=18)"
   ]
  },
  {
   "cell_type": "code",
   "execution_count": 45,
   "metadata": {},
   "outputs": [
    {
     "data": {
      "text/plain": [
       "Text(0, 0.5, 'Count of Intakes')"
      ]
     },
     "execution_count": 45,
     "metadata": {},
     "output_type": "execute_result"
    },
    {
     "data": {
      "image/png": "[encoded data removed]",
      "text/plain": [
       "<Figure size 864x576 with 1 Axes>"
      ]
     },
     "metadata": {
      "needs_background": "light"
     },
     "output_type": "display_data"
    }
   ],
   "source": [
    "plt.figure(figsize=(12, 8))\n",
    "sns.countplot(x='intake_month', data=animal_data, orient='v')\n",
    "plt.title('Count of Intakes by Month of Year', fontsize=18)\n",
    "plt.xlabel('Month', fontsize=18)\n",
    "plt.ylabel('Count of Intakes', fontsize=18)"
   ]
  },
  {
   "cell_type": "markdown",
   "metadata": {},
   "source": [
    "## Klasterizacija"
   ]
  },
  {
   "cell_type": "markdown",
   "metadata": {},
   "source": [
    "### Priprema dataseta:"
   ]
  },
  {
   "cell_type": "markdown",
   "metadata": {},
   "source": [
    "Da li postoje vrednosti koje nedostaju:"
   ]
  },
  {
   "cell_type": "code",
   "execution_count": 46,
   "metadata": {},
   "outputs": [
    {
     "data": {
      "text/plain": [
       "age_upon_outcome                  0\n",
       "animal_id_outcome                 0\n",
       "date_of_birth                     0\n",
       "outcome_subtype               36505\n",
       "outcome_type                      6\n",
       "sex_upon_outcome                  1\n",
       "age_upon_outcome_(days)           0\n",
       "age_upon_outcome_(years)          0\n",
       "age_upon_outcome_age_group        0\n",
       "outcome_datetime                  0\n",
       "outcome_month                     0\n",
       "outcome_year                      0\n",
       "outcome_monthyear                 0\n",
       "outcome_weekday                   0\n",
       "outcome_hour                      0\n",
       "outcome_number                    0\n",
       "dob_year                          0\n",
       "dob_month                         0\n",
       "dob_monthyear                     0\n",
       "age_upon_intake                   0\n",
       "animal_id_intake                  0\n",
       "animal_type                       0\n",
       "breed                             0\n",
       "color                             0\n",
       "found_location                    0\n",
       "intake_condition                  0\n",
       "intake_type                       0\n",
       "sex_upon_intake                   1\n",
       "count                             0\n",
       "age_upon_intake_(days)            0\n",
       "age_upon_intake_(years)           0\n",
       "age_upon_intake_age_group         0\n",
       "intake_datetime                   0\n",
       "intake_month                      0\n",
       "intake_year                       0\n",
       "intake_monthyear                  0\n",
       "intake_weekday                    0\n",
       "intake_hour                       0\n",
       "intake_number                     0\n",
       "time_in_shelter                   0\n",
       "time_in_shelter_days              0\n",
       "dtype: int64"
      ]
     },
     "execution_count": 46,
     "metadata": {},
     "output_type": "execute_result"
    }
   ],
   "source": [
    "animal_data.isnull().sum()"
   ]
  },
  {
   "cell_type": "markdown",
   "metadata": {},
   "source": [
    "Za više od polovine podataka nedostaje kolona 'outcome_subtype'."
   ]
  },
  {
   "cell_type": "code",
   "execution_count": 47,
   "metadata": {},
   "outputs": [
    {
     "data": {
      "text/html": [
       "<div>\n",
       "<style scoped>\n",
       "    .dataframe tbody tr th:only-of-type {\n",
       "        vertical-align: middle;\n",
       "    }\n",
       "\n",
       "    .dataframe tbody tr th {\n",
       "        vertical-align: top;\n",
       "    }\n",
       "\n",
       "    .dataframe thead th {\n",
       "        text-align: right;\n",
       "    }\n",
       "</style>\n",
       "<table border=\"1\" class=\"dataframe\">\n",
       "  <thead>\n",
       "    <tr style=\"text-align: right;\">\n",
       "      <th></th>\n",
       "      <th>outcome_type</th>\n",
       "      <th>outcome_subtype</th>\n",
       "    </tr>\n",
       "  </thead>\n",
       "  <tbody>\n",
       "    <tr>\n",
       "      <th>0</th>\n",
       "      <td>Adoption</td>\n",
       "      <td>[Foster, nan, Offsite, Barn]</td>\n",
       "    </tr>\n",
       "    <tr>\n",
       "      <th>1</th>\n",
       "      <td>Died</td>\n",
       "      <td>[In Kennel, In Foster, Enroute, At Vet, nan, I...</td>\n",
       "    </tr>\n",
       "    <tr>\n",
       "      <th>2</th>\n",
       "      <td>Disposal</td>\n",
       "      <td>[nan]</td>\n",
       "    </tr>\n",
       "    <tr>\n",
       "      <th>3</th>\n",
       "      <td>Euthanasia</td>\n",
       "      <td>[Suffering, Medical, Behavior, Aggressive, Rab...</td>\n",
       "    </tr>\n",
       "    <tr>\n",
       "      <th>4</th>\n",
       "      <td>Missing</td>\n",
       "      <td>[In Foster, nan, Possible Theft, In Kennel]</td>\n",
       "    </tr>\n",
       "    <tr>\n",
       "      <th>5</th>\n",
       "      <td>Relocate</td>\n",
       "      <td>[nan]</td>\n",
       "    </tr>\n",
       "    <tr>\n",
       "      <th>6</th>\n",
       "      <td>Return to Owner</td>\n",
       "      <td>[nan]</td>\n",
       "    </tr>\n",
       "    <tr>\n",
       "      <th>7</th>\n",
       "      <td>Rto-Adopt</td>\n",
       "      <td>[nan]</td>\n",
       "    </tr>\n",
       "    <tr>\n",
       "      <th>8</th>\n",
       "      <td>Transfer</td>\n",
       "      <td>[Partner, Snr, SCRP, Barn]</td>\n",
       "    </tr>\n",
       "  </tbody>\n",
       "</table>\n",
       "</div>"
      ],
      "text/plain": [
       "      outcome_type                                    outcome_subtype\n",
       "0         Adoption                       [Foster, nan, Offsite, Barn]\n",
       "1             Died  [In Kennel, In Foster, Enroute, At Vet, nan, I...\n",
       "2         Disposal                                              [nan]\n",
       "3       Euthanasia  [Suffering, Medical, Behavior, Aggressive, Rab...\n",
       "4          Missing        [In Foster, nan, Possible Theft, In Kennel]\n",
       "5         Relocate                                              [nan]\n",
       "6  Return to Owner                                              [nan]\n",
       "7        Rto-Adopt                                              [nan]\n",
       "8         Transfer                         [Partner, Snr, SCRP, Barn]"
      ]
     },
     "execution_count": 47,
     "metadata": {},
     "output_type": "execute_result"
    }
   ],
   "source": [
    "animal_data.groupby('outcome_type').outcome_subtype.unique().reset_index()"
   ]
  },
  {
   "cell_type": "markdown",
   "metadata": {},
   "source": [
    "Iz kolone 'outcome_type' imamo dovoljno podataka o ishodu. Možemo da uklonimo 'outcome_subtype':"
   ]
  },
  {
   "cell_type": "code",
   "execution_count": 48,
   "metadata": {},
   "outputs": [],
   "source": [
    "animal_data = animal_data.drop(['outcome_subtype'], axis = 1)"
   ]
  },
  {
   "cell_type": "code",
   "execution_count": 49,
   "metadata": {},
   "outputs": [
    {
     "data": {
      "text/plain": [
       "(71961, 40)"
      ]
     },
     "execution_count": 49,
     "metadata": {},
     "output_type": "execute_result"
    }
   ],
   "source": [
    "animal_data.shape"
   ]
  },
  {
   "cell_type": "markdown",
   "metadata": {},
   "source": [
    "Postoji jedna kolona gde nedostaje 'sex_upon_outcome' i jedna gde nedostaje 'sex_upon_intake'. Ovo je verovatno ista kolona:"
   ]
  },
  {
   "cell_type": "code",
   "execution_count": 50,
   "metadata": {},
   "outputs": [
    {
     "data": {
      "text/html": [
       "<div>\n",
       "<style scoped>\n",
       "    .dataframe tbody tr th:only-of-type {\n",
       "        vertical-align: middle;\n",
       "    }\n",
       "\n",
       "    .dataframe tbody tr th {\n",
       "        vertical-align: top;\n",
       "    }\n",
       "\n",
       "    .dataframe thead th {\n",
       "        text-align: right;\n",
       "    }\n",
       "</style>\n",
       "<table border=\"1\" class=\"dataframe\">\n",
       "  <thead>\n",
       "    <tr style=\"text-align: right;\">\n",
       "      <th></th>\n",
       "      <th>age_upon_outcome</th>\n",
       "      <th>animal_id_outcome</th>\n",
       "      <th>date_of_birth</th>\n",
       "      <th>outcome_type</th>\n",
       "      <th>sex_upon_outcome</th>\n",
       "      <th>age_upon_outcome_(days)</th>\n",
       "      <th>age_upon_outcome_(years)</th>\n",
       "      <th>age_upon_outcome_age_group</th>\n",
       "      <th>outcome_datetime</th>\n",
       "      <th>outcome_month</th>\n",
       "      <th>outcome_year</th>\n",
       "      <th>outcome_monthyear</th>\n",
       "      <th>outcome_weekday</th>\n",
       "      <th>outcome_hour</th>\n",
       "      <th>outcome_number</th>\n",
       "      <th>dob_year</th>\n",
       "      <th>dob_month</th>\n",
       "      <th>dob_monthyear</th>\n",
       "      <th>age_upon_intake</th>\n",
       "      <th>animal_id_intake</th>\n",
       "      <th>animal_type</th>\n",
       "      <th>breed</th>\n",
       "      <th>color</th>\n",
       "      <th>found_location</th>\n",
       "      <th>intake_condition</th>\n",
       "      <th>intake_type</th>\n",
       "      <th>sex_upon_intake</th>\n",
       "      <th>count</th>\n",
       "      <th>age_upon_intake_(days)</th>\n",
       "      <th>age_upon_intake_(years)</th>\n",
       "      <th>age_upon_intake_age_group</th>\n",
       "      <th>intake_datetime</th>\n",
       "      <th>intake_month</th>\n",
       "      <th>intake_year</th>\n",
       "      <th>intake_monthyear</th>\n",
       "      <th>intake_weekday</th>\n",
       "      <th>intake_hour</th>\n",
       "      <th>intake_number</th>\n",
       "      <th>time_in_shelter</th>\n",
       "      <th>time_in_shelter_days</th>\n",
       "    </tr>\n",
       "  </thead>\n",
       "  <tbody>\n",
       "    <tr>\n",
       "      <th>6523</th>\n",
       "      <td>7 years</td>\n",
       "      <td>A667395</td>\n",
       "      <td>2006-11-17 00:00:00</td>\n",
       "      <td>Return to Owner</td>\n",
       "      <td>NaN</td>\n",
       "      <td>2555</td>\n",
       "      <td>7.0</td>\n",
       "      <td>(5.0, 7.5]</td>\n",
       "      <td>2013-11-27 16:11:00</td>\n",
       "      <td>11</td>\n",
       "      <td>2013</td>\n",
       "      <td>2013-11</td>\n",
       "      <td>Wednesday</td>\n",
       "      <td>16</td>\n",
       "      <td>1.0</td>\n",
       "      <td>2006</td>\n",
       "      <td>11</td>\n",
       "      <td>2013-11</td>\n",
       "      <td>7 years</td>\n",
       "      <td>A667395</td>\n",
       "      <td>Dog</td>\n",
       "      <td>Dachshund</td>\n",
       "      <td>Brown Merle</td>\n",
       "      <td>Pflugerville (TX)</td>\n",
       "      <td>Normal</td>\n",
       "      <td>Owner Surrender</td>\n",
       "      <td>NaN</td>\n",
       "      <td>1</td>\n",
       "      <td>2555</td>\n",
       "      <td>7.0</td>\n",
       "      <td>(5.0, 7.5]</td>\n",
       "      <td>2013-11-17 13:15:00</td>\n",
       "      <td>11</td>\n",
       "      <td>2013</td>\n",
       "      <td>2013-11</td>\n",
       "      <td>Sunday</td>\n",
       "      <td>13</td>\n",
       "      <td>1.0</td>\n",
       "      <td>10 days 02:56:00.000000000</td>\n",
       "      <td>10.122222</td>\n",
       "    </tr>\n",
       "  </tbody>\n",
       "</table>\n",
       "</div>"
      ],
      "text/plain": [
       "     age_upon_outcome animal_id_outcome        date_of_birth     outcome_type  \\\n",
       "6523          7 years           A667395  2006-11-17 00:00:00  Return to Owner   \n",
       "\n",
       "     sex_upon_outcome  age_upon_outcome_(days)  age_upon_outcome_(years)  \\\n",
       "6523              NaN                     2555                       7.0   \n",
       "\n",
       "     age_upon_outcome_age_group     outcome_datetime  outcome_month  \\\n",
       "6523                 (5.0, 7.5]  2013-11-27 16:11:00             11   \n",
       "\n",
       "      outcome_year outcome_monthyear outcome_weekday  outcome_hour  \\\n",
       "6523          2013           2013-11       Wednesday            16   \n",
       "\n",
       "      outcome_number  dob_year  dob_month dob_monthyear age_upon_intake  \\\n",
       "6523             1.0      2006         11       2013-11         7 years   \n",
       "\n",
       "     animal_id_intake animal_type      breed        color     found_location  \\\n",
       "6523          A667395         Dog  Dachshund  Brown Merle  Pflugerville (TX)   \n",
       "\n",
       "     intake_condition      intake_type sex_upon_intake  count  \\\n",
       "6523           Normal  Owner Surrender             NaN      1   \n",
       "\n",
       "      age_upon_intake_(days)  age_upon_intake_(years)  \\\n",
       "6523                    2555                      7.0   \n",
       "\n",
       "     age_upon_intake_age_group      intake_datetime  intake_month  \\\n",
       "6523                (5.0, 7.5]  2013-11-17 13:15:00            11   \n",
       "\n",
       "      intake_year intake_monthyear intake_weekday  intake_hour  intake_number  \\\n",
       "6523         2013          2013-11         Sunday           13            1.0   \n",
       "\n",
       "                 time_in_shelter  time_in_shelter_days  \n",
       "6523  10 days 02:56:00.000000000             10.122222  "
      ]
     },
     "execution_count": 50,
     "metadata": {},
     "output_type": "execute_result"
    }
   ],
   "source": [
    "animal_data[animal_data['sex_upon_outcome'].isnull()]"
   ]
  },
  {
   "cell_type": "markdown",
   "metadata": {},
   "source": [
    "Možemo da dodelimo neku vrednost za ovu kolonu. Postojeće vrednosti su:"
   ]
  },
  {
   "cell_type": "code",
   "execution_count": 51,
   "metadata": {},
   "outputs": [
    {
     "data": {
      "text/plain": [
       "array(['Neutered Male', 'Spayed Female', 'Intact Female', 'Intact Male',\n",
       "       'Unknown', nan], dtype=object)"
      ]
     },
     "execution_count": 51,
     "metadata": {},
     "output_type": "execute_result"
    }
   ],
   "source": [
    "animal_data['sex_upon_outcome'].unique()"
   ]
  },
  {
   "cell_type": "markdown",
   "metadata": {},
   "source": [
    "Imamo opciju 'Unknown' koju možemo da iskoristimo:"
   ]
  },
  {
   "cell_type": "code",
   "execution_count": 52,
   "metadata": {},
   "outputs": [],
   "source": [
    "animal_data.loc[animal_data['sex_upon_outcome'].isnull(), 'sex_upon_outcome']='Unknown'\n",
    "animal_data.loc[animal_data['sex_upon_intake'].isnull(), 'sex_upon_intake']='Unknown'"
   ]
  },
  {
   "cell_type": "code",
   "execution_count": 53,
   "metadata": {},
   "outputs": [
    {
     "data": {
      "text/html": [
       "<div>\n",
       "<style scoped>\n",
       "    .dataframe tbody tr th:only-of-type {\n",
       "        vertical-align: middle;\n",
       "    }\n",
       "\n",
       "    .dataframe tbody tr th {\n",
       "        vertical-align: top;\n",
       "    }\n",
       "\n",
       "    .dataframe thead th {\n",
       "        text-align: right;\n",
       "    }\n",
       "</style>\n",
       "<table border=\"1\" class=\"dataframe\">\n",
       "  <thead>\n",
       "    <tr style=\"text-align: right;\">\n",
       "      <th></th>\n",
       "      <th>age_upon_outcome</th>\n",
       "      <th>animal_id_outcome</th>\n",
       "      <th>date_of_birth</th>\n",
       "      <th>outcome_type</th>\n",
       "      <th>sex_upon_outcome</th>\n",
       "      <th>age_upon_outcome_(days)</th>\n",
       "      <th>age_upon_outcome_(years)</th>\n",
       "      <th>age_upon_outcome_age_group</th>\n",
       "      <th>outcome_datetime</th>\n",
       "      <th>outcome_month</th>\n",
       "      <th>outcome_year</th>\n",
       "      <th>outcome_monthyear</th>\n",
       "      <th>outcome_weekday</th>\n",
       "      <th>outcome_hour</th>\n",
       "      <th>outcome_number</th>\n",
       "      <th>dob_year</th>\n",
       "      <th>dob_month</th>\n",
       "      <th>dob_monthyear</th>\n",
       "      <th>age_upon_intake</th>\n",
       "      <th>animal_id_intake</th>\n",
       "      <th>animal_type</th>\n",
       "      <th>breed</th>\n",
       "      <th>color</th>\n",
       "      <th>found_location</th>\n",
       "      <th>intake_condition</th>\n",
       "      <th>intake_type</th>\n",
       "      <th>sex_upon_intake</th>\n",
       "      <th>count</th>\n",
       "      <th>age_upon_intake_(days)</th>\n",
       "      <th>age_upon_intake_(years)</th>\n",
       "      <th>age_upon_intake_age_group</th>\n",
       "      <th>intake_datetime</th>\n",
       "      <th>intake_month</th>\n",
       "      <th>intake_year</th>\n",
       "      <th>intake_monthyear</th>\n",
       "      <th>intake_weekday</th>\n",
       "      <th>intake_hour</th>\n",
       "      <th>intake_number</th>\n",
       "      <th>time_in_shelter</th>\n",
       "      <th>time_in_shelter_days</th>\n",
       "    </tr>\n",
       "  </thead>\n",
       "  <tbody>\n",
       "    <tr>\n",
       "      <th>6523</th>\n",
       "      <td>7 years</td>\n",
       "      <td>A667395</td>\n",
       "      <td>2006-11-17 00:00:00</td>\n",
       "      <td>Return to Owner</td>\n",
       "      <td>Unknown</td>\n",
       "      <td>2555</td>\n",
       "      <td>7.0</td>\n",
       "      <td>(5.0, 7.5]</td>\n",
       "      <td>2013-11-27 16:11:00</td>\n",
       "      <td>11</td>\n",
       "      <td>2013</td>\n",
       "      <td>2013-11</td>\n",
       "      <td>Wednesday</td>\n",
       "      <td>16</td>\n",
       "      <td>1.0</td>\n",
       "      <td>2006</td>\n",
       "      <td>11</td>\n",
       "      <td>2013-11</td>\n",
       "      <td>7 years</td>\n",
       "      <td>A667395</td>\n",
       "      <td>Dog</td>\n",
       "      <td>Dachshund</td>\n",
       "      <td>Brown Merle</td>\n",
       "      <td>Pflugerville (TX)</td>\n",
       "      <td>Normal</td>\n",
       "      <td>Owner Surrender</td>\n",
       "      <td>Unknown</td>\n",
       "      <td>1</td>\n",
       "      <td>2555</td>\n",
       "      <td>7.0</td>\n",
       "      <td>(5.0, 7.5]</td>\n",
       "      <td>2013-11-17 13:15:00</td>\n",
       "      <td>11</td>\n",
       "      <td>2013</td>\n",
       "      <td>2013-11</td>\n",
       "      <td>Sunday</td>\n",
       "      <td>13</td>\n",
       "      <td>1.0</td>\n",
       "      <td>10 days 02:56:00.000000000</td>\n",
       "      <td>10.122222</td>\n",
       "    </tr>\n",
       "  </tbody>\n",
       "</table>\n",
       "</div>"
      ],
      "text/plain": [
       "     age_upon_outcome animal_id_outcome        date_of_birth     outcome_type  \\\n",
       "6523          7 years           A667395  2006-11-17 00:00:00  Return to Owner   \n",
       "\n",
       "     sex_upon_outcome  age_upon_outcome_(days)  age_upon_outcome_(years)  \\\n",
       "6523          Unknown                     2555                       7.0   \n",
       "\n",
       "     age_upon_outcome_age_group     outcome_datetime  outcome_month  \\\n",
       "6523                 (5.0, 7.5]  2013-11-27 16:11:00             11   \n",
       "\n",
       "      outcome_year outcome_monthyear outcome_weekday  outcome_hour  \\\n",
       "6523          2013           2013-11       Wednesday            16   \n",
       "\n",
       "      outcome_number  dob_year  dob_month dob_monthyear age_upon_intake  \\\n",
       "6523             1.0      2006         11       2013-11         7 years   \n",
       "\n",
       "     animal_id_intake animal_type      breed        color     found_location  \\\n",
       "6523          A667395         Dog  Dachshund  Brown Merle  Pflugerville (TX)   \n",
       "\n",
       "     intake_condition      intake_type sex_upon_intake  count  \\\n",
       "6523           Normal  Owner Surrender         Unknown      1   \n",
       "\n",
       "      age_upon_intake_(days)  age_upon_intake_(years)  \\\n",
       "6523                    2555                      7.0   \n",
       "\n",
       "     age_upon_intake_age_group      intake_datetime  intake_month  \\\n",
       "6523                (5.0, 7.5]  2013-11-17 13:15:00            11   \n",
       "\n",
       "      intake_year intake_monthyear intake_weekday  intake_hour  intake_number  \\\n",
       "6523         2013          2013-11         Sunday           13            1.0   \n",
       "\n",
       "                 time_in_shelter  time_in_shelter_days  \n",
       "6523  10 days 02:56:00.000000000             10.122222  "
      ]
     },
     "execution_count": 53,
     "metadata": {},
     "output_type": "execute_result"
    }
   ],
   "source": [
    "animal_data[animal_data['animal_id_outcome'] == 'A667395']"
   ]
  },
  {
   "cell_type": "markdown",
   "metadata": {},
   "source": [
    "Postoji 6 kolona gde nedostaje 'outcome_type':"
   ]
  },
  {
   "cell_type": "code",
   "execution_count": 54,
   "metadata": {},
   "outputs": [
    {
     "data": {
      "text/html": [
       "<div>\n",
       "<style scoped>\n",
       "    .dataframe tbody tr th:only-of-type {\n",
       "        vertical-align: middle;\n",
       "    }\n",
       "\n",
       "    .dataframe tbody tr th {\n",
       "        vertical-align: top;\n",
       "    }\n",
       "\n",
       "    .dataframe thead th {\n",
       "        text-align: right;\n",
       "    }\n",
       "</style>\n",
       "<table border=\"1\" class=\"dataframe\">\n",
       "  <thead>\n",
       "    <tr style=\"text-align: right;\">\n",
       "      <th></th>\n",
       "      <th>age_upon_outcome</th>\n",
       "      <th>animal_id_outcome</th>\n",
       "      <th>date_of_birth</th>\n",
       "      <th>outcome_type</th>\n",
       "      <th>sex_upon_outcome</th>\n",
       "      <th>age_upon_outcome_(days)</th>\n",
       "      <th>age_upon_outcome_(years)</th>\n",
       "      <th>age_upon_outcome_age_group</th>\n",
       "      <th>outcome_datetime</th>\n",
       "      <th>outcome_month</th>\n",
       "      <th>outcome_year</th>\n",
       "      <th>outcome_monthyear</th>\n",
       "      <th>outcome_weekday</th>\n",
       "      <th>outcome_hour</th>\n",
       "      <th>outcome_number</th>\n",
       "      <th>dob_year</th>\n",
       "      <th>dob_month</th>\n",
       "      <th>dob_monthyear</th>\n",
       "      <th>age_upon_intake</th>\n",
       "      <th>animal_id_intake</th>\n",
       "      <th>animal_type</th>\n",
       "      <th>breed</th>\n",
       "      <th>color</th>\n",
       "      <th>found_location</th>\n",
       "      <th>intake_condition</th>\n",
       "      <th>intake_type</th>\n",
       "      <th>sex_upon_intake</th>\n",
       "      <th>count</th>\n",
       "      <th>age_upon_intake_(days)</th>\n",
       "      <th>age_upon_intake_(years)</th>\n",
       "      <th>age_upon_intake_age_group</th>\n",
       "      <th>intake_datetime</th>\n",
       "      <th>intake_month</th>\n",
       "      <th>intake_year</th>\n",
       "      <th>intake_monthyear</th>\n",
       "      <th>intake_weekday</th>\n",
       "      <th>intake_hour</th>\n",
       "      <th>intake_number</th>\n",
       "      <th>time_in_shelter</th>\n",
       "      <th>time_in_shelter_days</th>\n",
       "    </tr>\n",
       "  </thead>\n",
       "  <tbody>\n",
       "    <tr>\n",
       "      <th>9016</th>\n",
       "      <td>1 year</td>\n",
       "      <td>A671017</td>\n",
       "      <td>2013-01-17 00:00:00</td>\n",
       "      <td>NaN</td>\n",
       "      <td>Unknown</td>\n",
       "      <td>365</td>\n",
       "      <td>1.000000</td>\n",
       "      <td>(-0.025, 2.5]</td>\n",
       "      <td>2014-01-20 08:27:00</td>\n",
       "      <td>1</td>\n",
       "      <td>2014</td>\n",
       "      <td>2014-01</td>\n",
       "      <td>Monday</td>\n",
       "      <td>8</td>\n",
       "      <td>1.0</td>\n",
       "      <td>2013</td>\n",
       "      <td>1</td>\n",
       "      <td>2014-01</td>\n",
       "      <td>1 year</td>\n",
       "      <td>A671017</td>\n",
       "      <td>Other</td>\n",
       "      <td>Fox Mix</td>\n",
       "      <td>Brown/Black</td>\n",
       "      <td>10105 Falcon Ridge Dr. in Travis (TX)</td>\n",
       "      <td>Sick</td>\n",
       "      <td>Wildlife</td>\n",
       "      <td>Unknown</td>\n",
       "      <td>1</td>\n",
       "      <td>365</td>\n",
       "      <td>1.000000</td>\n",
       "      <td>(-0.025, 2.5]</td>\n",
       "      <td>2014-01-17 12:46:00</td>\n",
       "      <td>1</td>\n",
       "      <td>2014</td>\n",
       "      <td>2014-01</td>\n",
       "      <td>Friday</td>\n",
       "      <td>12</td>\n",
       "      <td>1.0</td>\n",
       "      <td>2 days 19:41:00.000000000</td>\n",
       "      <td>2.820139</td>\n",
       "    </tr>\n",
       "    <tr>\n",
       "      <th>11057</th>\n",
       "      <td>0 years</td>\n",
       "      <td>A674209</td>\n",
       "      <td>2014-03-09 00:00:00</td>\n",
       "      <td>NaN</td>\n",
       "      <td>Unknown</td>\n",
       "      <td>0</td>\n",
       "      <td>0.000000</td>\n",
       "      <td>(-0.025, 2.5]</td>\n",
       "      <td>2014-03-09 18:15:00</td>\n",
       "      <td>3</td>\n",
       "      <td>2014</td>\n",
       "      <td>2014-03</td>\n",
       "      <td>Sunday</td>\n",
       "      <td>18</td>\n",
       "      <td>1.0</td>\n",
       "      <td>2014</td>\n",
       "      <td>3</td>\n",
       "      <td>2014-03</td>\n",
       "      <td>0 years</td>\n",
       "      <td>A674209</td>\n",
       "      <td>Other</td>\n",
       "      <td>Bat Mix</td>\n",
       "      <td>Brown</td>\n",
       "      <td>4210 W. Braker in Austin (TX)</td>\n",
       "      <td>Normal</td>\n",
       "      <td>Wildlife</td>\n",
       "      <td>Unknown</td>\n",
       "      <td>1</td>\n",
       "      <td>0</td>\n",
       "      <td>0.000000</td>\n",
       "      <td>(-0.025, 2.5]</td>\n",
       "      <td>2014-03-09 16:38:00</td>\n",
       "      <td>3</td>\n",
       "      <td>2014</td>\n",
       "      <td>2014-03</td>\n",
       "      <td>Sunday</td>\n",
       "      <td>16</td>\n",
       "      <td>1.0</td>\n",
       "      <td>0 days 01:37:00.000000000</td>\n",
       "      <td>0.067361</td>\n",
       "    </tr>\n",
       "    <tr>\n",
       "      <th>14583</th>\n",
       "      <td>4 weeks</td>\n",
       "      <td>A679066</td>\n",
       "      <td>2014-04-16 00:00:00</td>\n",
       "      <td>NaN</td>\n",
       "      <td>Unknown</td>\n",
       "      <td>28</td>\n",
       "      <td>0.076712</td>\n",
       "      <td>(-0.025, 2.5]</td>\n",
       "      <td>2014-05-16 10:58:00</td>\n",
       "      <td>5</td>\n",
       "      <td>2014</td>\n",
       "      <td>2014-05</td>\n",
       "      <td>Friday</td>\n",
       "      <td>0</td>\n",
       "      <td>1.0</td>\n",
       "      <td>2014</td>\n",
       "      <td>4</td>\n",
       "      <td>2014-05</td>\n",
       "      <td>4 weeks</td>\n",
       "      <td>A679066</td>\n",
       "      <td>Other</td>\n",
       "      <td>Rabbit Sh</td>\n",
       "      <td>Brown</td>\n",
       "      <td>Austin (TX)</td>\n",
       "      <td>Normal</td>\n",
       "      <td>Wildlife</td>\n",
       "      <td>Unknown</td>\n",
       "      <td>1</td>\n",
       "      <td>28</td>\n",
       "      <td>0.076712</td>\n",
       "      <td>(-0.025, 2.5]</td>\n",
       "      <td>2014-05-16 00:00:00</td>\n",
       "      <td>5</td>\n",
       "      <td>2014</td>\n",
       "      <td>2014-05</td>\n",
       "      <td>Friday</td>\n",
       "      <td>10</td>\n",
       "      <td>1.0</td>\n",
       "      <td>0 days 10:58:00.000000000</td>\n",
       "      <td>0.456944</td>\n",
       "    </tr>\n",
       "    <tr>\n",
       "      <th>20020</th>\n",
       "      <td>1 year</td>\n",
       "      <td>A686025</td>\n",
       "      <td>2013-08-15 00:00:00</td>\n",
       "      <td>NaN</td>\n",
       "      <td>Unknown</td>\n",
       "      <td>365</td>\n",
       "      <td>1.000000</td>\n",
       "      <td>(-0.025, 2.5]</td>\n",
       "      <td>2014-08-16 08:35:00</td>\n",
       "      <td>8</td>\n",
       "      <td>2014</td>\n",
       "      <td>2014-08</td>\n",
       "      <td>Saturday</td>\n",
       "      <td>8</td>\n",
       "      <td>1.0</td>\n",
       "      <td>2013</td>\n",
       "      <td>8</td>\n",
       "      <td>2014-08</td>\n",
       "      <td>1 year</td>\n",
       "      <td>A686025</td>\n",
       "      <td>Other</td>\n",
       "      <td>Bat Mix</td>\n",
       "      <td>Brown</td>\n",
       "      <td>12901 N Ih 35 #1100 in Austin (TX)</td>\n",
       "      <td>Normal</td>\n",
       "      <td>Wildlife</td>\n",
       "      <td>Unknown</td>\n",
       "      <td>1</td>\n",
       "      <td>365</td>\n",
       "      <td>1.000000</td>\n",
       "      <td>(-0.025, 2.5]</td>\n",
       "      <td>2014-08-15 18:48:00</td>\n",
       "      <td>8</td>\n",
       "      <td>2014</td>\n",
       "      <td>2014-08</td>\n",
       "      <td>Friday</td>\n",
       "      <td>18</td>\n",
       "      <td>1.0</td>\n",
       "      <td>0 days 13:47:00.000000000</td>\n",
       "      <td>0.574306</td>\n",
       "    </tr>\n",
       "    <tr>\n",
       "      <th>44097</th>\n",
       "      <td>10 years</td>\n",
       "      <td>A718046</td>\n",
       "      <td>2005-12-20 00:00:00</td>\n",
       "      <td>NaN</td>\n",
       "      <td>Neutered Male</td>\n",
       "      <td>3650</td>\n",
       "      <td>10.000000</td>\n",
       "      <td>(7.5, 10.0]</td>\n",
       "      <td>2016-03-26 14:22:00</td>\n",
       "      <td>3</td>\n",
       "      <td>2016</td>\n",
       "      <td>2016-03</td>\n",
       "      <td>Saturday</td>\n",
       "      <td>0</td>\n",
       "      <td>1.0</td>\n",
       "      <td>2005</td>\n",
       "      <td>12</td>\n",
       "      <td>2016-03</td>\n",
       "      <td>10 years</td>\n",
       "      <td>A718046</td>\n",
       "      <td>Dog</td>\n",
       "      <td>Chihuahua Longhair Mix</td>\n",
       "      <td>Cream</td>\n",
       "      <td>12601 Bee Caves Pkwy #203 in Travis (TX)</td>\n",
       "      <td>Normal</td>\n",
       "      <td>Public Assist</td>\n",
       "      <td>Neutered Male</td>\n",
       "      <td>1</td>\n",
       "      <td>3650</td>\n",
       "      <td>10.000000</td>\n",
       "      <td>(7.5, 10.0]</td>\n",
       "      <td>2016-03-26 00:00:00</td>\n",
       "      <td>3</td>\n",
       "      <td>2016</td>\n",
       "      <td>2016-03</td>\n",
       "      <td>Saturday</td>\n",
       "      <td>14</td>\n",
       "      <td>1.0</td>\n",
       "      <td>0 days 14:22:00.000000000</td>\n",
       "      <td>0.598611</td>\n",
       "    </tr>\n",
       "    <tr>\n",
       "      <th>63150</th>\n",
       "      <td>1 year</td>\n",
       "      <td>A744013</td>\n",
       "      <td>2016-02-21 00:00:00</td>\n",
       "      <td>NaN</td>\n",
       "      <td>Unknown</td>\n",
       "      <td>365</td>\n",
       "      <td>1.000000</td>\n",
       "      <td>(-0.025, 2.5]</td>\n",
       "      <td>2017-02-24 09:00:00</td>\n",
       "      <td>2</td>\n",
       "      <td>2017</td>\n",
       "      <td>2017-02</td>\n",
       "      <td>Friday</td>\n",
       "      <td>9</td>\n",
       "      <td>1.0</td>\n",
       "      <td>2016</td>\n",
       "      <td>2</td>\n",
       "      <td>2017-02</td>\n",
       "      <td>1 year</td>\n",
       "      <td>A744013</td>\n",
       "      <td>Other</td>\n",
       "      <td>Bat Mix</td>\n",
       "      <td>Black</td>\n",
       "      <td>6600 Casimir Cove in Austin (TX)</td>\n",
       "      <td>Normal</td>\n",
       "      <td>Wildlife</td>\n",
       "      <td>Unknown</td>\n",
       "      <td>1</td>\n",
       "      <td>365</td>\n",
       "      <td>1.000000</td>\n",
       "      <td>(-0.025, 2.5]</td>\n",
       "      <td>2017-02-21 14:29:00</td>\n",
       "      <td>2</td>\n",
       "      <td>2017</td>\n",
       "      <td>2017-02</td>\n",
       "      <td>Tuesday</td>\n",
       "      <td>14</td>\n",
       "      <td>1.0</td>\n",
       "      <td>2 days 18:31:00.000000000</td>\n",
       "      <td>2.771528</td>\n",
       "    </tr>\n",
       "  </tbody>\n",
       "</table>\n",
       "</div>"
      ],
      "text/plain": [
       "      age_upon_outcome animal_id_outcome        date_of_birth outcome_type  \\\n",
       "9016            1 year           A671017  2013-01-17 00:00:00          NaN   \n",
       "11057          0 years           A674209  2014-03-09 00:00:00          NaN   \n",
       "14583          4 weeks           A679066  2014-04-16 00:00:00          NaN   \n",
       "20020           1 year           A686025  2013-08-15 00:00:00          NaN   \n",
       "44097         10 years           A718046  2005-12-20 00:00:00          NaN   \n",
       "63150           1 year           A744013  2016-02-21 00:00:00          NaN   \n",
       "\n",
       "      sex_upon_outcome  age_upon_outcome_(days)  age_upon_outcome_(years)  \\\n",
       "9016           Unknown                      365                  1.000000   \n",
       "11057          Unknown                        0                  0.000000   \n",
       "14583          Unknown                       28                  0.076712   \n",
       "20020          Unknown                      365                  1.000000   \n",
       "44097    Neutered Male                     3650                 10.000000   \n",
       "63150          Unknown                      365                  1.000000   \n",
       "\n",
       "      age_upon_outcome_age_group     outcome_datetime  outcome_month  \\\n",
       "9016               (-0.025, 2.5]  2014-01-20 08:27:00              1   \n",
       "11057              (-0.025, 2.5]  2014-03-09 18:15:00              3   \n",
       "14583              (-0.025, 2.5]  2014-05-16 10:58:00              5   \n",
       "20020              (-0.025, 2.5]  2014-08-16 08:35:00              8   \n",
       "44097                (7.5, 10.0]  2016-03-26 14:22:00              3   \n",
       "63150              (-0.025, 2.5]  2017-02-24 09:00:00              2   \n",
       "\n",
       "       outcome_year outcome_monthyear outcome_weekday  outcome_hour  \\\n",
       "9016           2014           2014-01          Monday             8   \n",
       "11057          2014           2014-03          Sunday            18   \n",
       "14583          2014           2014-05          Friday             0   \n",
       "20020          2014           2014-08        Saturday             8   \n",
       "44097          2016           2016-03        Saturday             0   \n",
       "63150          2017           2017-02          Friday             9   \n",
       "\n",
       "       outcome_number  dob_year  dob_month dob_monthyear age_upon_intake  \\\n",
       "9016              1.0      2013          1       2014-01          1 year   \n",
       "11057             1.0      2014          3       2014-03         0 years   \n",
       "14583             1.0      2014          4       2014-05         4 weeks   \n",
       "20020             1.0      2013          8       2014-08          1 year   \n",
       "44097             1.0      2005         12       2016-03        10 years   \n",
       "63150             1.0      2016          2       2017-02          1 year   \n",
       "\n",
       "      animal_id_intake animal_type                   breed        color  \\\n",
       "9016           A671017       Other                 Fox Mix  Brown/Black   \n",
       "11057          A674209       Other                 Bat Mix        Brown   \n",
       "14583          A679066       Other               Rabbit Sh        Brown   \n",
       "20020          A686025       Other                 Bat Mix        Brown   \n",
       "44097          A718046         Dog  Chihuahua Longhair Mix        Cream   \n",
       "63150          A744013       Other                 Bat Mix        Black   \n",
       "\n",
       "                                 found_location intake_condition  \\\n",
       "9016      10105 Falcon Ridge Dr. in Travis (TX)             Sick   \n",
       "11057             4210 W. Braker in Austin (TX)           Normal   \n",
       "14583                               Austin (TX)           Normal   \n",
       "20020        12901 N Ih 35 #1100 in Austin (TX)           Normal   \n",
       "44097  12601 Bee Caves Pkwy #203 in Travis (TX)           Normal   \n",
       "63150          6600 Casimir Cove in Austin (TX)           Normal   \n",
       "\n",
       "         intake_type sex_upon_intake  count  age_upon_intake_(days)  \\\n",
       "9016        Wildlife         Unknown      1                     365   \n",
       "11057       Wildlife         Unknown      1                       0   \n",
       "14583       Wildlife         Unknown      1                      28   \n",
       "20020       Wildlife         Unknown      1                     365   \n",
       "44097  Public Assist   Neutered Male      1                    3650   \n",
       "63150       Wildlife         Unknown      1                     365   \n",
       "\n",
       "       age_upon_intake_(years) age_upon_intake_age_group      intake_datetime  \\\n",
       "9016                  1.000000             (-0.025, 2.5]  2014-01-17 12:46:00   \n",
       "11057                 0.000000             (-0.025, 2.5]  2014-03-09 16:38:00   \n",
       "14583                 0.076712             (-0.025, 2.5]  2014-05-16 00:00:00   \n",
       "20020                 1.000000             (-0.025, 2.5]  2014-08-15 18:48:00   \n",
       "44097                10.000000               (7.5, 10.0]  2016-03-26 00:00:00   \n",
       "63150                 1.000000             (-0.025, 2.5]  2017-02-21 14:29:00   \n",
       "\n",
       "       intake_month  intake_year intake_monthyear intake_weekday  intake_hour  \\\n",
       "9016              1         2014          2014-01         Friday           12   \n",
       "11057             3         2014          2014-03         Sunday           16   \n",
       "14583             5         2014          2014-05         Friday           10   \n",
       "20020             8         2014          2014-08         Friday           18   \n",
       "44097             3         2016          2016-03       Saturday           14   \n",
       "63150             2         2017          2017-02        Tuesday           14   \n",
       "\n",
       "       intake_number            time_in_shelter  time_in_shelter_days  \n",
       "9016             1.0  2 days 19:41:00.000000000              2.820139  \n",
       "11057            1.0  0 days 01:37:00.000000000              0.067361  \n",
       "14583            1.0  0 days 10:58:00.000000000              0.456944  \n",
       "20020            1.0  0 days 13:47:00.000000000              0.574306  \n",
       "44097            1.0  0 days 14:22:00.000000000              0.598611  \n",
       "63150            1.0  2 days 18:31:00.000000000              2.771528  "
      ]
     },
     "execution_count": 54,
     "metadata": {},
     "output_type": "execute_result"
    }
   ],
   "source": [
    "animal_data[animal_data['outcome_type'].isnull()]"
   ]
  },
  {
   "cell_type": "markdown",
   "metadata": {},
   "source": [
    "Pošto je ukupno samo 6 redova kojima nedostaje 'outcome_type', možemo im dodeliti neke od vrednosti za ovu kolonu:"
   ]
  },
  {
   "cell_type": "code",
   "execution_count": 55,
   "metadata": {},
   "outputs": [
    {
     "data": {
      "text/plain": [
       "array(['Return to Owner', 'Transfer', 'Adoption', 'Euthanasia', 'Died',\n",
       "       'Rto-Adopt', 'Missing', 'Disposal', nan, 'Relocate'], dtype=object)"
      ]
     },
     "execution_count": 55,
     "metadata": {},
     "output_type": "execute_result"
    }
   ],
   "source": [
    "animal_data['outcome_type'].unique()"
   ]
  },
  {
   "cell_type": "markdown",
   "metadata": {},
   "source": [
    "Neka to bude 'Relocate':"
   ]
  },
  {
   "cell_type": "code",
   "execution_count": 56,
   "metadata": {},
   "outputs": [],
   "source": [
    "animal_data.loc[animal_data['outcome_type'].isnull(), 'outcome_type']='Relocate'"
   ]
  },
  {
   "cell_type": "markdown",
   "metadata": {},
   "source": [
    "Sada ne postoje redovi gde nedostaju vrednosti:"
   ]
  },
  {
   "cell_type": "code",
   "execution_count": 57,
   "metadata": {},
   "outputs": [
    {
     "data": {
      "text/plain": [
       "age_upon_outcome              0\n",
       "animal_id_outcome             0\n",
       "date_of_birth                 0\n",
       "outcome_type                  0\n",
       "sex_upon_outcome              0\n",
       "age_upon_outcome_(days)       0\n",
       "age_upon_outcome_(years)      0\n",
       "age_upon_outcome_age_group    0\n",
       "outcome_datetime              0\n",
       "outcome_month                 0\n",
       "outcome_year                  0\n",
       "outcome_monthyear             0\n",
       "outcome_weekday               0\n",
       "outcome_hour                  0\n",
       "outcome_number                0\n",
       "dob_year                      0\n",
       "dob_month                     0\n",
       "dob_monthyear                 0\n",
       "age_upon_intake               0\n",
       "animal_id_intake              0\n",
       "animal_type                   0\n",
       "breed                         0\n",
       "color                         0\n",
       "found_location                0\n",
       "intake_condition              0\n",
       "intake_type                   0\n",
       "sex_upon_intake               0\n",
       "count                         0\n",
       "age_upon_intake_(days)        0\n",
       "age_upon_intake_(years)       0\n",
       "age_upon_intake_age_group     0\n",
       "intake_datetime               0\n",
       "intake_month                  0\n",
       "intake_year                   0\n",
       "intake_monthyear              0\n",
       "intake_weekday                0\n",
       "intake_hour                   0\n",
       "intake_number                 0\n",
       "time_in_shelter               0\n",
       "time_in_shelter_days          0\n",
       "dtype: int64"
      ]
     },
     "execution_count": 57,
     "metadata": {},
     "output_type": "execute_result"
    }
   ],
   "source": [
    "animal_data.isnull().sum()"
   ]
  },
  {
   "cell_type": "markdown",
   "metadata": {},
   "source": [
    "Broj jedinstvenih vrednosti za svaku kolonu:"
   ]
  },
  {
   "cell_type": "code",
   "execution_count": 58,
   "metadata": {},
   "outputs": [
    {
     "data": {
      "text/plain": [
       "age_upon_outcome                 46\n",
       "animal_id_outcome             71961\n",
       "date_of_birth                  5923\n",
       "outcome_type                      9\n",
       "sex_upon_outcome                  5\n",
       "age_upon_outcome_(days)          45\n",
       "age_upon_outcome_(years)         45\n",
       "age_upon_outcome_age_group       10\n",
       "outcome_datetime              59079\n",
       "outcome_month                    12\n",
       "outcome_year                      6\n",
       "outcome_monthyear                55\n",
       "outcome_weekday                   7\n",
       "outcome_hour                     24\n",
       "outcome_number                    1\n",
       "dob_year                         28\n",
       "dob_month                        12\n",
       "dob_monthyear                    55\n",
       "age_upon_intake                  46\n",
       "animal_id_intake              71961\n",
       "animal_type                       4\n",
       "breed                          2155\n",
       "color                           529\n",
       "found_location                33422\n",
       "intake_condition                  8\n",
       "intake_type                       5\n",
       "sex_upon_intake                   5\n",
       "count                             1\n",
       "age_upon_intake_(days)           45\n",
       "age_upon_intake_(years)          45\n",
       "age_upon_intake_age_group        10\n",
       "intake_datetime               51379\n",
       "intake_month                     12\n",
       "intake_year                       6\n",
       "intake_monthyear                 54\n",
       "intake_weekday                    7\n",
       "intake_hour                      24\n",
       "intake_number                     1\n",
       "time_in_shelter               27325\n",
       "time_in_shelter_days          27325\n",
       "dtype: int64"
      ]
     },
     "execution_count": 58,
     "metadata": {},
     "output_type": "execute_result"
    }
   ],
   "source": [
    "animal_data.nunique()"
   ]
  },
  {
   "cell_type": "markdown",
   "metadata": {},
   "source": [
    "'count' je pomoćna kolona za tabelarno izračunavanje broja. Svi redovi u ovoj koloni su 1. Ovu kolonu možemo ukloniti.  \n",
    "Takođje animal_id_intake i animal_id_outcome predsavljaju jedinstveni broj životinje u skolištu, ali nam neće pomoći kod klasterizacije, tako da možemo ukloniti ove kolone."
   ]
  },
  {
   "cell_type": "code",
   "execution_count": 59,
   "metadata": {},
   "outputs": [],
   "source": [
    "animal_data = animal_data.drop(['count'], axis = 1)\n",
    "animal_data = animal_data.drop(['animal_id_intake'], axis = 1)\n",
    "animal_data = animal_data.drop(['animal_id_outcome'], axis = 1)"
   ]
  },
  {
   "cell_type": "code",
   "execution_count": 60,
   "metadata": {},
   "outputs": [
    {
     "data": {
      "text/plain": [
       "(71961, 37)"
      ]
     },
     "execution_count": 60,
     "metadata": {},
     "output_type": "execute_result"
    }
   ],
   "source": [
    "animal_data.shape"
   ]
  },
  {
   "cell_type": "markdown",
   "metadata": {},
   "source": [
    "Postoje kolone koje imaju 'duple' podatke. \n",
    "Konkretnije informacije dobijamo od 'age_upon_outcome_(days)' i 'age_upon_outcome_(years)' nego od kolone  \t'age_upon_outcome'.  Izmedju 'age_upon_outcome_(days)' i 'age_upon_outcome_(years)', daju istu infomaciju. Mozemo da zadržimo 'age_upon_outcome_(days)'. Isto važi i za intake kolone.  \n",
    "Za datum rodjenja imamo nekoliko kolona: 'date_of_birth', 'dob_monthyear', 'dob_month' i 'dob_year'. 'dob_monthyear' je kombinacija 'dob_month' i 'dob_year'.  \n",
    "Isto važi i za intake kolone.  \n",
    "'intake_monthyear' kolona kombinuje informacije iz kolona 'intake_month' i 'intake_year'. Isto važi i za outake kolone.  \n",
    "'time_in_shelter' je datum predstavljen u TimeDelta formatu. Iz 'time_in_shelter_days' imamo dovoljno informacija o broju dana provedenih u skloništu."
   ]
  },
  {
   "cell_type": "code",
   "execution_count": 61,
   "metadata": {},
   "outputs": [],
   "source": [
    "animal_data = animal_data.drop(['age_upon_outcome', 'age_upon_outcome_(years)'], axis = 1)\n",
    "animal_data = animal_data.drop(['date_of_birth', 'dob_month', 'dob_year'], axis = 1)\n",
    "animal_data = animal_data.drop(['intake_year', 'intake_month'], axis = 1)\n",
    "animal_data = animal_data.drop(['time_in_shelter'], axis = 1)"
   ]
  },
  {
   "cell_type": "code",
   "execution_count": 62,
   "metadata": {},
   "outputs": [],
   "source": [
    "animal_data = animal_data.drop(['outcome_year', 'outcome_month'], axis = 1)\n",
    "animal_data = animal_data.drop(['intake_datetime', 'outcome_datetime'], axis = 1)"
   ]
  },
  {
   "cell_type": "code",
   "execution_count": 63,
   "metadata": {},
   "outputs": [],
   "source": [
    "animal_data = animal_data.drop(['age_upon_intake', 'age_upon_intake_(years)'], axis = 1)"
   ]
  },
  {
   "cell_type": "code",
   "execution_count": 64,
   "metadata": {},
   "outputs": [
    {
     "data": {
      "text/plain": [
       "(71961, 23)"
      ]
     },
     "execution_count": 64,
     "metadata": {},
     "output_type": "execute_result"
    }
   ],
   "source": [
    "animal_data.shape"
   ]
  },
  {
   "cell_type": "code",
   "execution_count": 65,
   "metadata": {},
   "outputs": [
    {
     "name": "stdout",
     "output_type": "stream",
     "text": [
      "<class 'pandas.core.frame.DataFrame'>\n",
      "Int64Index: 71961 entries, 0 to 79671\n",
      "Data columns (total 23 columns):\n",
      " #   Column                      Non-Null Count  Dtype   \n",
      "---  ------                      --------------  -----   \n",
      " 0   outcome_type                71961 non-null  object  \n",
      " 1   sex_upon_outcome            71961 non-null  object  \n",
      " 2   age_upon_outcome_(days)     71961 non-null  int64   \n",
      " 3   age_upon_outcome_age_group  71961 non-null  object  \n",
      " 4   outcome_monthyear           71961 non-null  object  \n",
      " 5   outcome_weekday             71961 non-null  object  \n",
      " 6   outcome_hour                71961 non-null  int64   \n",
      " 7   outcome_number              71961 non-null  float64 \n",
      " 8   dob_monthyear               71961 non-null  object  \n",
      " 9   animal_type                 71961 non-null  object  \n",
      " 10  breed                       71961 non-null  object  \n",
      " 11  color                       71961 non-null  object  \n",
      " 12  found_location              71961 non-null  object  \n",
      " 13  intake_condition            71961 non-null  object  \n",
      " 14  intake_type                 71961 non-null  object  \n",
      " 15  sex_upon_intake             71961 non-null  object  \n",
      " 16  age_upon_intake_(days)      71961 non-null  int64   \n",
      " 17  age_upon_intake_age_group   71961 non-null  object  \n",
      " 18  intake_monthyear            71961 non-null  object  \n",
      " 19  intake_weekday              71961 non-null  category\n",
      " 20  intake_hour                 71961 non-null  int64   \n",
      " 21  intake_number               71961 non-null  float64 \n",
      " 22  time_in_shelter_days        71961 non-null  float64 \n",
      "dtypes: category(1), float64(3), int64(4), object(15)\n",
      "memory usage: 15.2+ MB\n"
     ]
    }
   ],
   "source": [
    "animal_data.info()"
   ]
  },
  {
   "cell_type": "markdown",
   "metadata": {},
   "source": [
    "Sada nam trebaju numeričke vrednosti za sve kolone."
   ]
  },
  {
   "cell_type": "code",
   "execution_count": 66,
   "metadata": {},
   "outputs": [],
   "source": [
    "labelEncoder = preprocessing.LabelEncoder()"
   ]
  },
  {
   "cell_type": "code",
   "execution_count": 67,
   "metadata": {},
   "outputs": [],
   "source": [
    "labelEncoder.fit(animal_data['outcome_type'])\n",
    "animal_data['outcome_type'] = labelEncoder.transform(animal_data['outcome_type'])"
   ]
  },
  {
   "cell_type": "code",
   "execution_count": 68,
   "metadata": {},
   "outputs": [],
   "source": [
    "labelEncoder.fit(animal_data['sex_upon_outcome'])\n",
    "animal_data['sex_upon_outcome'] = labelEncoder.transform(animal_data['sex_upon_outcome'])"
   ]
  },
  {
   "cell_type": "code",
   "execution_count": 69,
   "metadata": {},
   "outputs": [],
   "source": [
    "labelEncoder.fit(animal_data['sex_upon_intake'])\n",
    "animal_data['sex_upon_intake'] = labelEncoder.transform(animal_data['sex_upon_intake'])"
   ]
  },
  {
   "cell_type": "code",
   "execution_count": 70,
   "metadata": {},
   "outputs": [],
   "source": [
    "labelEncoder.fit(animal_data['outcome_monthyear'])\n",
    "animal_data['outcome_monthyear'] = labelEncoder.transform(animal_data['outcome_monthyear'])\n",
    "labelEncoder.fit(animal_data['intake_monthyear'])\n",
    "animal_data['intake_monthyear'] = labelEncoder.transform(animal_data['intake_monthyear'])"
   ]
  },
  {
   "cell_type": "code",
   "execution_count": 71,
   "metadata": {},
   "outputs": [],
   "source": [
    "labelEncoder.fit(animal_data['outcome_weekday'])\n",
    "animal_data['outcome_weekday'] = labelEncoder.transform(animal_data['outcome_weekday'])\n",
    "labelEncoder.fit(animal_data['intake_weekday'])\n",
    "animal_data['intake_weekday'] = labelEncoder.transform(animal_data['intake_weekday'])"
   ]
  },
  {
   "cell_type": "code",
   "execution_count": 72,
   "metadata": {},
   "outputs": [],
   "source": [
    "labelEncoder.fit(animal_data['intake_condition'])\n",
    "animal_data['intake_condition'] = labelEncoder.transform(animal_data['intake_condition'])\n",
    "labelEncoder.fit(animal_data['intake_type'])\n",
    "animal_data['intake_type'] = labelEncoder.transform(animal_data['intake_type'])"
   ]
  },
  {
   "cell_type": "code",
   "execution_count": 73,
   "metadata": {},
   "outputs": [],
   "source": [
    "labelEncoder.fit(animal_data['dob_monthyear'])\n",
    "animal_data['dob_monthyear'] = labelEncoder.transform(animal_data['dob_monthyear'])\n",
    "labelEncoder.fit(animal_data['animal_type'])\n",
    "animal_data['animal_type'] = labelEncoder.transform(animal_data['animal_type'])"
   ]
  },
  {
   "cell_type": "code",
   "execution_count": 74,
   "metadata": {},
   "outputs": [],
   "source": [
    "labelEncoder.fit(animal_data['age_upon_outcome_age_group'])\n",
    "animal_data['age_upon_outcome_age_group'] = labelEncoder.transform(animal_data['age_upon_outcome_age_group'])\n",
    "labelEncoder.fit(animal_data['age_upon_intake_age_group'])\n",
    "animal_data['age_upon_intake_age_group'] = labelEncoder.transform(animal_data['age_upon_intake_age_group'])"
   ]
  },
  {
   "cell_type": "code",
   "execution_count": 75,
   "metadata": {},
   "outputs": [],
   "source": [
    "labelEncoder.fit(animal_data['breed'])\n",
    "animal_data['breed'] = labelEncoder.transform(animal_data['breed'])\n",
    "labelEncoder.fit(animal_data['color'])\n",
    "animal_data['color'] = labelEncoder.transform(animal_data['color'])\n",
    "labelEncoder.fit(animal_data['found_location'])\n",
    "animal_data['found_location'] = labelEncoder.transform(animal_data['found_location'])"
   ]
  },
  {
   "cell_type": "code",
   "execution_count": 76,
   "metadata": {},
   "outputs": [
    {
     "name": "stdout",
     "output_type": "stream",
     "text": [
      "<class 'pandas.core.frame.DataFrame'>\n",
      "Int64Index: 71961 entries, 0 to 79671\n",
      "Data columns (total 23 columns):\n",
      " #   Column                      Non-Null Count  Dtype  \n",
      "---  ------                      --------------  -----  \n",
      " 0   outcome_type                71961 non-null  int32  \n",
      " 1   sex_upon_outcome            71961 non-null  int32  \n",
      " 2   age_upon_outcome_(days)     71961 non-null  int64  \n",
      " 3   age_upon_outcome_age_group  71961 non-null  int32  \n",
      " 4   outcome_monthyear           71961 non-null  int32  \n",
      " 5   outcome_weekday             71961 non-null  int32  \n",
      " 6   outcome_hour                71961 non-null  int64  \n",
      " 7   outcome_number              71961 non-null  float64\n",
      " 8   dob_monthyear               71961 non-null  int32  \n",
      " 9   animal_type                 71961 non-null  int32  \n",
      " 10  breed                       71961 non-null  int32  \n",
      " 11  color                       71961 non-null  int32  \n",
      " 12  found_location              71961 non-null  int32  \n",
      " 13  intake_condition            71961 non-null  int32  \n",
      " 14  intake_type                 71961 non-null  int32  \n",
      " 15  sex_upon_intake             71961 non-null  int32  \n",
      " 16  age_upon_intake_(days)      71961 non-null  int64  \n",
      " 17  age_upon_intake_age_group   71961 non-null  int32  \n",
      " 18  intake_monthyear            71961 non-null  int32  \n",
      " 19  intake_weekday              71961 non-null  int32  \n",
      " 20  intake_hour                 71961 non-null  int64  \n",
      " 21  intake_number               71961 non-null  float64\n",
      " 22  time_in_shelter_days        71961 non-null  float64\n",
      "dtypes: float64(3), int32(16), int64(4)\n",
      "memory usage: 11.3 MB\n"
     ]
    }
   ],
   "source": [
    "animal_data.info()"
   ]
  },
  {
   "cell_type": "markdown",
   "metadata": {},
   "source": [
    "Sve vrednosti su numeričke."
   ]
  },
  {
   "cell_type": "code",
   "execution_count": 77,
   "metadata": {},
   "outputs": [
    {
     "data": {
      "image/png": "[encoded data removed]",
      "text/plain": [
       "<Figure size 1440x1080 with 2 Axes>"
      ]
     },
     "metadata": {
      "needs_background": "light"
     },
     "output_type": "display_data"
    }
   ],
   "source": [
    "plt.figure(figsize=(20,15))\n",
    "sns.heatmap(animal_data.corr(), cmap=\"YlGnBu\")\n",
    "plt.show()"
   ]
  },
  {
   "cell_type": "markdown",
   "metadata": {},
   "source": [
    "Na heatmapi vidimo da kolone intake_number i outcome_number nisu u korelaciji sa ostalim atributima."
   ]
  },
  {
   "cell_type": "markdown",
   "metadata": {},
   "source": [
    "Ove vrednosti predstavljaju koliko je puta životinja uvedena/puštena u/iz skloništa."
   ]
  },
  {
   "cell_type": "code",
   "execution_count": 78,
   "metadata": {},
   "outputs": [
    {
     "data": {
      "text/html": [
       "<div>\n",
       "<style scoped>\n",
       "    .dataframe tbody tr th:only-of-type {\n",
       "        vertical-align: middle;\n",
       "    }\n",
       "\n",
       "    .dataframe tbody tr th {\n",
       "        vertical-align: top;\n",
       "    }\n",
       "\n",
       "    .dataframe thead th {\n",
       "        text-align: right;\n",
       "    }\n",
       "</style>\n",
       "<table border=\"1\" class=\"dataframe\">\n",
       "  <thead>\n",
       "    <tr style=\"text-align: right;\">\n",
       "      <th></th>\n",
       "      <th>outcome_type</th>\n",
       "      <th>sex_upon_outcome</th>\n",
       "      <th>age_upon_outcome_(days)</th>\n",
       "      <th>age_upon_outcome_age_group</th>\n",
       "      <th>outcome_monthyear</th>\n",
       "      <th>outcome_weekday</th>\n",
       "      <th>outcome_hour</th>\n",
       "      <th>outcome_number</th>\n",
       "      <th>dob_monthyear</th>\n",
       "      <th>animal_type</th>\n",
       "      <th>breed</th>\n",
       "      <th>color</th>\n",
       "      <th>found_location</th>\n",
       "      <th>intake_condition</th>\n",
       "      <th>intake_type</th>\n",
       "      <th>sex_upon_intake</th>\n",
       "      <th>age_upon_intake_(days)</th>\n",
       "      <th>age_upon_intake_age_group</th>\n",
       "      <th>intake_monthyear</th>\n",
       "      <th>intake_weekday</th>\n",
       "      <th>intake_hour</th>\n",
       "      <th>intake_number</th>\n",
       "      <th>time_in_shelter_days</th>\n",
       "    </tr>\n",
       "  </thead>\n",
       "  <tbody>\n",
       "  </tbody>\n",
       "</table>\n",
       "</div>"
      ],
      "text/plain": [
       "Empty DataFrame\n",
       "Columns: [outcome_type, sex_upon_outcome, age_upon_outcome_(days), age_upon_outcome_age_group, outcome_monthyear, outcome_weekday, outcome_hour, outcome_number, dob_monthyear, animal_type, breed, color, found_location, intake_condition, intake_type, sex_upon_intake, age_upon_intake_(days), age_upon_intake_age_group, intake_monthyear, intake_weekday, intake_hour, intake_number, time_in_shelter_days]\n",
       "Index: []"
      ]
     },
     "execution_count": 78,
     "metadata": {},
     "output_type": "execute_result"
    }
   ],
   "source": [
    "animal_data[animal_data['outcome_number'] != 1]"
   ]
  },
  {
   "cell_type": "code",
   "execution_count": 79,
   "metadata": {},
   "outputs": [
    {
     "data": {
      "text/html": [
       "<div>\n",
       "<style scoped>\n",
       "    .dataframe tbody tr th:only-of-type {\n",
       "        vertical-align: middle;\n",
       "    }\n",
       "\n",
       "    .dataframe tbody tr th {\n",
       "        vertical-align: top;\n",
       "    }\n",
       "\n",
       "    .dataframe thead th {\n",
       "        text-align: right;\n",
       "    }\n",
       "</style>\n",
       "<table border=\"1\" class=\"dataframe\">\n",
       "  <thead>\n",
       "    <tr style=\"text-align: right;\">\n",
       "      <th></th>\n",
       "      <th>outcome_type</th>\n",
       "      <th>sex_upon_outcome</th>\n",
       "      <th>age_upon_outcome_(days)</th>\n",
       "      <th>age_upon_outcome_age_group</th>\n",
       "      <th>outcome_monthyear</th>\n",
       "      <th>outcome_weekday</th>\n",
       "      <th>outcome_hour</th>\n",
       "      <th>outcome_number</th>\n",
       "      <th>dob_monthyear</th>\n",
       "      <th>animal_type</th>\n",
       "      <th>breed</th>\n",
       "      <th>color</th>\n",
       "      <th>found_location</th>\n",
       "      <th>intake_condition</th>\n",
       "      <th>intake_type</th>\n",
       "      <th>sex_upon_intake</th>\n",
       "      <th>age_upon_intake_(days)</th>\n",
       "      <th>age_upon_intake_age_group</th>\n",
       "      <th>intake_monthyear</th>\n",
       "      <th>intake_weekday</th>\n",
       "      <th>intake_hour</th>\n",
       "      <th>intake_number</th>\n",
       "      <th>time_in_shelter_days</th>\n",
       "    </tr>\n",
       "  </thead>\n",
       "  <tbody>\n",
       "  </tbody>\n",
       "</table>\n",
       "</div>"
      ],
      "text/plain": [
       "Empty DataFrame\n",
       "Columns: [outcome_type, sex_upon_outcome, age_upon_outcome_(days), age_upon_outcome_age_group, outcome_monthyear, outcome_weekday, outcome_hour, outcome_number, dob_monthyear, animal_type, breed, color, found_location, intake_condition, intake_type, sex_upon_intake, age_upon_intake_(days), age_upon_intake_age_group, intake_monthyear, intake_weekday, intake_hour, intake_number, time_in_shelter_days]\n",
       "Index: []"
      ]
     },
     "execution_count": 79,
     "metadata": {},
     "output_type": "execute_result"
    }
   ],
   "source": [
    "animal_data[animal_data['intake_number'] != 1]"
   ]
  },
  {
   "cell_type": "markdown",
   "metadata": {},
   "source": [
    "Ne postoje vrednosti različite od 1, tako da možemo ukloniti ove 2 kolone."
   ]
  },
  {
   "cell_type": "code",
   "execution_count": 80,
   "metadata": {},
   "outputs": [],
   "source": [
    "animal_data = animal_data.drop(['intake_number', 'outcome_number'], axis = 1)"
   ]
  },
  {
   "cell_type": "markdown",
   "metadata": {},
   "source": [
    "Priprema normalizovanog dataseta:"
   ]
  },
  {
   "cell_type": "code",
   "execution_count": 81,
   "metadata": {},
   "outputs": [],
   "source": [
    "names = animal_data.columns"
   ]
  },
  {
   "cell_type": "code",
   "execution_count": 82,
   "metadata": {},
   "outputs": [],
   "source": [
    "scaler = preprocessing.MinMaxScaler()"
   ]
  },
  {
   "cell_type": "code",
   "execution_count": 83,
   "metadata": {},
   "outputs": [],
   "source": [
    "animal_data_narray = scaler.fit_transform(animal_data)\n",
    "animal_data_normalized = pd.DataFrame(animal_data_narray, columns=names)"
   ]
  },
  {
   "cell_type": "code",
   "execution_count": 84,
   "metadata": {},
   "outputs": [
    {
     "data": {
      "text/html": [
       "<div>\n",
       "<style scoped>\n",
       "    .dataframe tbody tr th:only-of-type {\n",
       "        vertical-align: middle;\n",
       "    }\n",
       "\n",
       "    .dataframe tbody tr th {\n",
       "        vertical-align: top;\n",
       "    }\n",
       "\n",
       "    .dataframe thead th {\n",
       "        text-align: right;\n",
       "    }\n",
       "</style>\n",
       "<table border=\"1\" class=\"dataframe\">\n",
       "  <thead>\n",
       "    <tr style=\"text-align: right;\">\n",
       "      <th></th>\n",
       "      <th>outcome_type</th>\n",
       "      <th>sex_upon_outcome</th>\n",
       "      <th>age_upon_outcome_(days)</th>\n",
       "      <th>age_upon_outcome_age_group</th>\n",
       "      <th>outcome_monthyear</th>\n",
       "      <th>outcome_weekday</th>\n",
       "      <th>outcome_hour</th>\n",
       "      <th>dob_monthyear</th>\n",
       "      <th>animal_type</th>\n",
       "      <th>breed</th>\n",
       "      <th>color</th>\n",
       "      <th>found_location</th>\n",
       "      <th>intake_condition</th>\n",
       "      <th>intake_type</th>\n",
       "      <th>sex_upon_intake</th>\n",
       "      <th>age_upon_intake_(days)</th>\n",
       "      <th>age_upon_intake_age_group</th>\n",
       "      <th>intake_monthyear</th>\n",
       "      <th>intake_weekday</th>\n",
       "      <th>intake_hour</th>\n",
       "      <th>time_in_shelter_days</th>\n",
       "    </tr>\n",
       "  </thead>\n",
       "  <tbody>\n",
       "    <tr>\n",
       "      <th>0</th>\n",
       "      <td>0.75</td>\n",
       "      <td>0.50</td>\n",
       "      <td>0.40</td>\n",
       "      <td>1.000000</td>\n",
       "      <td>0.925926</td>\n",
       "      <td>0.666667</td>\n",
       "      <td>0.000000</td>\n",
       "      <td>0.925926</td>\n",
       "      <td>0.666667</td>\n",
       "      <td>0.920149</td>\n",
       "      <td>0.998106</td>\n",
       "      <td>0.753478</td>\n",
       "      <td>0.428571</td>\n",
       "      <td>0.75</td>\n",
       "      <td>0.50</td>\n",
       "      <td>0.40</td>\n",
       "      <td>1.000000</td>\n",
       "      <td>0.943396</td>\n",
       "      <td>0.666667</td>\n",
       "      <td>0.608696</td>\n",
       "      <td>0.000366</td>\n",
       "    </tr>\n",
       "    <tr>\n",
       "      <th>1</th>\n",
       "      <td>1.00</td>\n",
       "      <td>0.50</td>\n",
       "      <td>0.40</td>\n",
       "      <td>1.000000</td>\n",
       "      <td>0.111111</td>\n",
       "      <td>0.166667</td>\n",
       "      <td>0.652174</td>\n",
       "      <td>0.111111</td>\n",
       "      <td>0.666667</td>\n",
       "      <td>0.385330</td>\n",
       "      <td>0.850379</td>\n",
       "      <td>0.713234</td>\n",
       "      <td>0.428571</td>\n",
       "      <td>0.25</td>\n",
       "      <td>0.50</td>\n",
       "      <td>0.40</td>\n",
       "      <td>1.000000</td>\n",
       "      <td>0.113208</td>\n",
       "      <td>1.000000</td>\n",
       "      <td>0.652174</td>\n",
       "      <td>0.003094</td>\n",
       "    </tr>\n",
       "    <tr>\n",
       "      <th>2</th>\n",
       "      <td>0.75</td>\n",
       "      <td>0.50</td>\n",
       "      <td>0.64</td>\n",
       "      <td>0.333333</td>\n",
       "      <td>0.018519</td>\n",
       "      <td>0.333333</td>\n",
       "      <td>0.478261</td>\n",
       "      <td>0.018519</td>\n",
       "      <td>0.666667</td>\n",
       "      <td>0.872795</td>\n",
       "      <td>0.346591</td>\n",
       "      <td>0.091828</td>\n",
       "      <td>0.285714</td>\n",
       "      <td>0.50</td>\n",
       "      <td>0.50</td>\n",
       "      <td>0.64</td>\n",
       "      <td>0.333333</td>\n",
       "      <td>0.018868</td>\n",
       "      <td>0.333333</td>\n",
       "      <td>0.391304</td>\n",
       "      <td>0.000074</td>\n",
       "    </tr>\n",
       "    <tr>\n",
       "      <th>3</th>\n",
       "      <td>0.75</td>\n",
       "      <td>0.75</td>\n",
       "      <td>0.60</td>\n",
       "      <td>0.222222</td>\n",
       "      <td>0.018519</td>\n",
       "      <td>0.500000</td>\n",
       "      <td>0.478261</td>\n",
       "      <td>0.018519</td>\n",
       "      <td>0.666667</td>\n",
       "      <td>0.620706</td>\n",
       "      <td>0.111742</td>\n",
       "      <td>0.713234</td>\n",
       "      <td>0.000000</td>\n",
       "      <td>0.75</td>\n",
       "      <td>0.75</td>\n",
       "      <td>0.60</td>\n",
       "      <td>0.222222</td>\n",
       "      <td>0.018868</td>\n",
       "      <td>0.333333</td>\n",
       "      <td>0.608696</td>\n",
       "      <td>0.000542</td>\n",
       "    </tr>\n",
       "    <tr>\n",
       "      <th>4</th>\n",
       "      <td>0.75</td>\n",
       "      <td>0.00</td>\n",
       "      <td>0.60</td>\n",
       "      <td>0.222222</td>\n",
       "      <td>0.240741</td>\n",
       "      <td>0.000000</td>\n",
       "      <td>0.826087</td>\n",
       "      <td>0.240741</td>\n",
       "      <td>0.666667</td>\n",
       "      <td>0.690808</td>\n",
       "      <td>0.089015</td>\n",
       "      <td>0.828880</td>\n",
       "      <td>0.428571</td>\n",
       "      <td>0.75</td>\n",
       "      <td>0.00</td>\n",
       "      <td>0.60</td>\n",
       "      <td>0.222222</td>\n",
       "      <td>0.245283</td>\n",
       "      <td>0.000000</td>\n",
       "      <td>0.652174</td>\n",
       "      <td>0.000111</td>\n",
       "    </tr>\n",
       "  </tbody>\n",
       "</table>\n",
       "</div>"
      ],
      "text/plain": [
       "   outcome_type  sex_upon_outcome  age_upon_outcome_(days)  \\\n",
       "0          0.75              0.50                     0.40   \n",
       "1          1.00              0.50                     0.40   \n",
       "2          0.75              0.50                     0.64   \n",
       "3          0.75              0.75                     0.60   \n",
       "4          0.75              0.00                     0.60   \n",
       "\n",
       "   age_upon_outcome_age_group  outcome_monthyear  outcome_weekday  \\\n",
       "0                    1.000000           0.925926         0.666667   \n",
       "1                    1.000000           0.111111         0.166667   \n",
       "2                    0.333333           0.018519         0.333333   \n",
       "3                    0.222222           0.018519         0.500000   \n",
       "4                    0.222222           0.240741         0.000000   \n",
       "\n",
       "   outcome_hour  dob_monthyear  animal_type     breed     color  \\\n",
       "0      0.000000       0.925926     0.666667  0.920149  0.998106   \n",
       "1      0.652174       0.111111     0.666667  0.385330  0.850379   \n",
       "2      0.478261       0.018519     0.666667  0.872795  0.346591   \n",
       "3      0.478261       0.018519     0.666667  0.620706  0.111742   \n",
       "4      0.826087       0.240741     0.666667  0.690808  0.089015   \n",
       "\n",
       "   found_location  intake_condition  intake_type  sex_upon_intake  \\\n",
       "0        0.753478          0.428571         0.75             0.50   \n",
       "1        0.713234          0.428571         0.25             0.50   \n",
       "2        0.091828          0.285714         0.50             0.50   \n",
       "3        0.713234          0.000000         0.75             0.75   \n",
       "4        0.828880          0.428571         0.75             0.00   \n",
       "\n",
       "   age_upon_intake_(days)  age_upon_intake_age_group  intake_monthyear  \\\n",
       "0                    0.40                   1.000000          0.943396   \n",
       "1                    0.40                   1.000000          0.113208   \n",
       "2                    0.64                   0.333333          0.018868   \n",
       "3                    0.60                   0.222222          0.018868   \n",
       "4                    0.60                   0.222222          0.245283   \n",
       "\n",
       "   intake_weekday  intake_hour  time_in_shelter_days  \n",
       "0        0.666667     0.608696              0.000366  \n",
       "1        1.000000     0.652174              0.003094  \n",
       "2        0.333333     0.391304              0.000074  \n",
       "3        0.333333     0.608696              0.000542  \n",
       "4        0.000000     0.652174              0.000111  "
      ]
     },
     "execution_count": 84,
     "metadata": {},
     "output_type": "execute_result"
    }
   ],
   "source": [
    "animal_data_normalized.head()"
   ]
  },
  {
   "cell_type": "markdown",
   "metadata": {},
   "source": [
    "### Algoritmi"
   ]
  },
  {
   "cell_type": "code",
   "execution_count": 85,
   "metadata": {},
   "outputs": [],
   "source": [
    "from sklearn.cluster import KMeans\n",
    "from sklearn.cluster import MiniBatchKMeans\n",
    "from sklearn.cluster import MeanShift\n",
    "from sklearn.cluster import DBSCAN\n",
    "from sklearn.cluster import AgglomerativeClustering\n",
    "from sklearn.cluster import OPTICS"
   ]
  },
  {
   "cell_type": "code",
   "execution_count": 86,
   "metadata": {},
   "outputs": [],
   "source": [
    "from warnings import filterwarnings\n",
    "filterwarnings('ignore')"
   ]
  },
  {
   "cell_type": "code",
   "execution_count": 96,
   "metadata": {},
   "outputs": [],
   "source": [
    "from sklearn.decomposition import PCA"
   ]
  },
  {
   "cell_type": "code",
   "execution_count": 113,
   "metadata": {},
   "outputs": [],
   "source": [
    "from sklearn.metrics import silhouette_score\n",
    "from sklearn.metrics import calinski_harabasz_score"
   ]
  },
  {
   "cell_type": "code",
   "execution_count": 140,
   "metadata": {},
   "outputs": [],
   "source": [
    "import scipy.cluster.hierarchy as sch"
   ]
  },
  {
   "cell_type": "markdown",
   "metadata": {},
   "source": [
    "Redukcija dimenzionalnosti:"
   ]
  },
  {
   "cell_type": "code",
   "execution_count": 87,
   "metadata": {},
   "outputs": [],
   "source": [
    "animal_data_x_array = np.array(animal_data_normalized.drop(['outcome_type'], axis = 1))\n",
    "animal_data_y_array = np.array(animal_data['outcome_type'])"
   ]
  },
  {
   "cell_type": "code",
   "execution_count": 97,
   "metadata": {},
   "outputs": [
    {
     "data": {
      "text/plain": [
       "(71961, 20)"
      ]
     },
     "execution_count": 97,
     "metadata": {},
     "output_type": "execute_result"
    }
   ],
   "source": [
    "animal_data_x_array.shape"
   ]
  },
  {
   "cell_type": "code",
   "execution_count": 98,
   "metadata": {},
   "outputs": [],
   "source": [
    "pca = PCA(n_components = 20, random_state=42)\n",
    "pca.fit(animal_data_x_array)\n",
    "animal_data_x_array_pca = pca.transform(animal_data_x_array)"
   ]
  },
  {
   "cell_type": "code",
   "execution_count": 99,
   "metadata": {},
   "outputs": [
    {
     "data": {
      "text/plain": [
       "array([ 19.69107789,  37.44238455,  48.99029592,  58.93111616,\n",
       "        66.83455281,  74.68486585,  81.22098606,  85.14106643,\n",
       "        88.58429459,  91.75669178,  94.15539991,  96.1828701 ,\n",
       "        97.65002161,  98.93263549,  99.85120531,  99.92332198,\n",
       "        99.98267856,  99.99909066, 100.        , 100.        ])"
      ]
     },
     "execution_count": 99,
     "metadata": {},
     "output_type": "execute_result"
    }
   ],
   "source": [
    "np.cumsum(pca.explained_variance_ratio_ * 100)"
   ]
  },
  {
   "cell_type": "code",
   "execution_count": 100,
   "metadata": {},
   "outputs": [
    {
     "data": {
      "text/plain": [
       "Text(0, 0.5, 'Explained variance')"
      ]
     },
     "execution_count": 100,
     "metadata": {},
     "output_type": "execute_result"
    },
    {
     "data": {
      "image/png": "[encoded data removed]",
      "text/plain": [
       "<Figure size 720x504 with 1 Axes>"
      ]
     },
     "metadata": {
      "needs_background": "light"
     },
     "output_type": "display_data"
    }
   ],
   "source": [
    "plt.figure(figsize=(10, 7))\n",
    "plt.plot(np.cumsum(pca.explained_variance_ratio_))\n",
    "plt.xlabel(\"Number of components\")\n",
    "plt.ylabel(\"Explained variance\")"
   ]
  },
  {
   "cell_type": "code",
   "execution_count": 101,
   "metadata": {},
   "outputs": [],
   "source": [
    "pca_95 = PCA(n_components = 0.95, random_state=42)\n",
    "pca_95.fit(animal_data_x_array)\n",
    "animal_data_x_array_pca_95 = pca_95.transform(animal_data_x_array)"
   ]
  },
  {
   "cell_type": "code",
   "execution_count": 102,
   "metadata": {},
   "outputs": [
    {
     "data": {
      "text/plain": [
       "(71961, 12)"
      ]
     },
     "execution_count": 102,
     "metadata": {},
     "output_type": "execute_result"
    }
   ],
   "source": [
    "animal_data_x_array_pca_95.shape"
   ]
  },
  {
   "cell_type": "code",
   "execution_count": 104,
   "metadata": {},
   "outputs": [
    {
     "data": {
      "text/plain": [
       "array([19.69107789, 37.44238455, 48.99029592, 58.93111616, 66.83455281,\n",
       "       74.68486585, 81.22098606, 85.14106643, 88.58429459, 91.75669178,\n",
       "       94.15539991, 96.1828701 ])"
      ]
     },
     "execution_count": 104,
     "metadata": {},
     "output_type": "execute_result"
    }
   ],
   "source": [
    "np.cumsum(pca_95.explained_variance_ratio_ * 100)"
   ]
  },
  {
   "cell_type": "markdown",
   "metadata": {},
   "source": [
    "### KMeans"
   ]
  },
  {
   "cell_type": "code",
   "execution_count": 103,
   "metadata": {},
   "outputs": [
    {
     "data": {
      "text/plain": [
       "9"
      ]
     },
     "execution_count": 103,
     "metadata": {},
     "output_type": "execute_result"
    }
   ],
   "source": [
    "animal_data['outcome_type'].unique().size"
   ]
  },
  {
   "cell_type": "code",
   "execution_count": 116,
   "metadata": {},
   "outputs": [],
   "source": [
    "sil_array = []\n",
    "chs_array = []\n",
    "ssd_array = []\n",
    "k_range = 10\n",
    "for k in range(2, k_range):\n",
    "    k_means = KMeans(n_clusters = k, random_state=0, n_jobs=-1).fit(animal_data_x_array_pca_95)\n",
    "    sil_array.append(silhouette_score(animal_data_x_array_pca_95, k_means.labels_, metric = \"euclidean\"))\n",
    "    chs_array.append(calinski_harabasz_score(animal_data_x_array_pca_95, k_means.labels_))\n",
    "    ssd_array.append(k_means.inertia_)"
   ]
  },
  {
   "cell_type": "code",
   "execution_count": 117,
   "metadata": {},
   "outputs": [
    {
     "data": {
      "image/png": "[encoded data removed]",
      "text/plain": [
       "<Figure size 720x504 with 1 Axes>"
      ]
     },
     "metadata": {
      "needs_background": "light"
     },
     "output_type": "display_data"
    }
   ],
   "source": [
    "plt.figure(figsize=(10, 7))\n",
    "plt.plot(range(2, 10), sil_array, 'o-')\n",
    "plt.xticks(range(2, 10))\n",
    "plt.xlabel(\"Number of Clusters\")\n",
    "plt.ylabel(\"Silhouette Coefficient\")\n",
    "plt.show()"
   ]
  },
  {
   "cell_type": "code",
   "execution_count": 118,
   "metadata": {},
   "outputs": [
    {
     "data": {
      "image/png": "[encoded data removed]",
      "text/plain": [
       "<Figure size 720x504 with 1 Axes>"
      ]
     },
     "metadata": {
      "needs_background": "light"
     },
     "output_type": "display_data"
    }
   ],
   "source": [
    "plt.figure(figsize=(10, 7))\n",
    "plt.plot(range(2, 10), chs_array, 'o-')\n",
    "plt.xticks(range(2, 10))\n",
    "plt.xlabel(\"Number of Clusters\")\n",
    "plt.ylabel(\"KMeans Calinski Harabasz Score\")\n",
    "plt.show()"
   ]
  },
  {
   "cell_type": "code",
   "execution_count": 121,
   "metadata": {},
   "outputs": [
    {
     "data": {
      "image/png": "[encoded data removed]",
      "text/plain": [
       "<Figure size 720x504 with 1 Axes>"
      ]
     },
     "metadata": {
      "needs_background": "light"
     },
     "output_type": "display_data"
    }
   ],
   "source": [
    "plt.figure(figsize=(10, 7))\n",
    "plt.plot(range(2, 10), ssd_array, 'o-')\n",
    "plt.xticks(range(2, 10))\n",
    "plt.title(\"KMeans Elbow\")\n",
    "plt.show()"
   ]
  },
  {
   "cell_type": "markdown",
   "metadata": {},
   "source": [
    "### DBSCAN"
   ]
  },
  {
   "cell_type": "code",
   "execution_count": 134,
   "metadata": {},
   "outputs": [],
   "source": [
    "sil_array = []\n",
    "chs_array = []\n",
    "d_range = 10\n",
    "for k in range(1, d_range):\n",
    "    dbscan = DBSCAN(min_samples = k, n_jobs=-1).fit(animal_data_x_array_pca_95)   \n",
    "    sil_array.append(silhouette_score(animal_data_x_array_pca_95, dbscan.labels_))\n",
    "    chs_array.append(calinski_harabasz_score(animal_data_x_array_pca_95, dbscan.labels_))"
   ]
  },
  {
   "cell_type": "code",
   "execution_count": 136,
   "metadata": {},
   "outputs": [
    {
     "data": {
      "image/png": "[encoded data removed]",
      "text/plain": [
       "<Figure size 720x504 with 1 Axes>"
      ]
     },
     "metadata": {
      "needs_background": "light"
     },
     "output_type": "display_data"
    }
   ],
   "source": [
    "plt.figure(figsize=(10, 7))\n",
    "plt.plot(range(1, 10), sil_array, 'go-')\n",
    "plt.xticks(range(1, 10))\n",
    "plt.xlabel(\"Number of Samples\")\n",
    "plt.ylabel(\"DBSCAN Silhouette Coefficient\")\n",
    "plt.show()"
   ]
  },
  {
   "cell_type": "code",
   "execution_count": 137,
   "metadata": {},
   "outputs": [
    {
     "data": {
      "image/png": "[encoded data removed]",
      "text/plain": [
       "<Figure size 720x504 with 1 Axes>"
      ]
     },
     "metadata": {
      "needs_background": "light"
     },
     "output_type": "display_data"
    }
   ],
   "source": [
    "plt.figure(figsize=(10, 7))\n",
    "plt.plot(range(1, 10), chs_array, 'go-')\n",
    "plt.xticks(range(1, 10))\n",
    "plt.xlabel(\"Number of Samples\")\n",
    "plt.ylabel(\"DBSCAN Calinski Harabasz Score\")\n",
    "plt.show()"
   ]
  },
  {
   "cell_type": "markdown",
   "metadata": {},
   "source": [
    "### Agglomerative Clustering"
   ]
  },
  {
   "cell_type": "markdown",
   "metadata": {},
   "source": [
    "Za ovaj algoritam dataset je preveliki, moramo ga smanjiti."
   ]
  },
  {
   "cell_type": "code",
   "execution_count": 142,
   "metadata": {},
   "outputs": [],
   "source": [
    "silced_animal_data_x_array_pca_95 = animal_data_x_array_pca_95[:1000]"
   ]
  },
  {
   "cell_type": "code",
   "execution_count": 143,
   "metadata": {},
   "outputs": [
    {
     "data": {
      "text/plain": [
       "(1000, 12)"
      ]
     },
     "execution_count": 143,
     "metadata": {},
     "output_type": "execute_result"
    }
   ],
   "source": [
    "silced_animal_data_x_array_pca_95.shape"
   ]
  },
  {
   "cell_type": "code",
   "execution_count": 144,
   "metadata": {},
   "outputs": [
    {
     "data": {
      "image/png": "[encoded data removed]",
      "text/plain": [
       "<Figure size 1440x1080 with 1 Axes>"
      ]
     },
     "metadata": {
      "needs_background": "light"
     },
     "output_type": "display_data"
    }
   ],
   "source": [
    "plt.figure(figsize=(20,15))\n",
    "sch.dendrogram(sch.linkage(silced_animal_data_x_array_pca_95, method = \"ward\"))\n",
    "plt.show()"
   ]
  },
  {
   "cell_type": "code",
   "execution_count": 146,
   "metadata": {},
   "outputs": [],
   "source": [
    "sil_array = []\n",
    "chs_array = []\n",
    "a_range = 10\n",
    "for k in range(2, a_range):\n",
    "    hcluster = AgglomerativeClustering(n_clusters=k, affinity='euclidean', linkage='ward').fit(silced_animal_data_x_array_pca_95)\n",
    "    sil_array.append(silhouette_score(silced_animal_data_x_array_pca_95, hcluster.labels_, metric = \"euclidean\"))\n",
    "    chs_array.append(calinski_harabasz_score(silced_animal_data_x_array_pca_95, hcluster.labels_))"
   ]
  },
  {
   "cell_type": "code",
   "execution_count": 147,
   "metadata": {},
   "outputs": [
    {
     "data": {
      "image/png": "[encoded data removed]",
      "text/plain": [
       "<Figure size 720x504 with 1 Axes>"
      ]
     },
     "metadata": {
      "needs_background": "light"
     },
     "output_type": "display_data"
    }
   ],
   "source": [
    "plt.figure(figsize=(10, 7))\n",
    "plt.plot(range(2, 10), sil_array, 'ro-')\n",
    "plt.xticks(range(2, 10))\n",
    "plt.xlabel(\"Number of Clusters\")\n",
    "plt.ylabel(\"Agglomerative Clustering Silhouette Coefficient\")\n",
    "plt.show()"
   ]
  },
  {
   "cell_type": "code",
   "execution_count": 148,
   "metadata": {},
   "outputs": [
    {
     "data": {
      "image/png": "[encoded data removed]",
      "text/plain": [
       "<Figure size 720x504 with 1 Axes>"
      ]
     },
     "metadata": {
      "needs_background": "light"
     },
     "output_type": "display_data"
    }
   ],
   "source": [
    "plt.figure(figsize=(10, 7))\n",
    "plt.plot(range(2, 10), chs_array, 'ro-')\n",
    "plt.xticks(range(2, 10))\n",
    "plt.xlabel(\"Number of Clusters\")\n",
    "plt.ylabel(\"Agglomerative Clustering Calinski Harabasz Score\")\n",
    "plt.show()"
   ]
  },
  {
   "cell_type": "code",
   "execution_count": null,
   "metadata": {},
   "outputs": [],
   "source": []
  }
 ],
 "metadata": {
  "kernelspec": {
   "display_name": "Python 3",
   "language": "python",
   "name": "python3"
  },
  "language_info": {
   "codemirror_mode": {
    "name": "ipython",
    "version": 3
   },
   "file_extension": ".py",
   "mimetype": "text/x-python",
   "name": "python",
   "nbconvert_exporter": "python",
   "pygments_lexer": "ipython3",
   "version": "3.8.5"
  }
 },
 "nbformat": 4,
 "nbformat_minor": 4
}
